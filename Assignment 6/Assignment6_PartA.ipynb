{
  "nbformat": 4,
  "nbformat_minor": 0,
  "metadata": {
    "colab": {
      "name": "Assignment6_PartA.ipynb",
      "provenance": [],
      "toc_visible": true
    },
    "kernelspec": {
      "name": "python3",
      "display_name": "Python 3"
    },
    "language_info": {
      "name": "python"
    }
  },
  "cells": [
    {
      "cell_type": "markdown",
      "metadata": {
        "id": "fwFXAck6xXCp"
      },
      "source": [
        "## Assignemnt 6- Part A: Autograd Implementation"
      ]
    },
    {
      "cell_type": "code",
      "metadata": {
        "id": "jZEwErw4xr8N"
      },
      "source": [
        "import numpy as np\n",
        "from keras.datasets import mnist\n",
        "import matplotlib.pyplot as plt\n",
        "from keras.utils import np_utils\n",
        "from scipy.special import softmax\n",
        "\n",
        "np.random.seed(0)"
      ],
      "execution_count": null,
      "outputs": []
    },
    {
      "cell_type": "markdown",
      "metadata": {
        "id": "JReJPJC4jAZT"
      },
      "source": [
        "#Define Autograd class"
      ]
    },
    {
      "cell_type": "code",
      "metadata": {
        "id": "5H0PdX0exud0"
      },
      "source": [
        "# Define the class Tensor\n",
        "class Tensor (object):\n",
        "    def __init__(self,data,\n",
        "                 autograd=False,\n",
        "                 creators=None,\n",
        "                 creation_op=None,\n",
        "                 id=None):\n",
        "        \n",
        "        self.data = np.array(data)\n",
        "        self.autograd = autograd\n",
        "        self.grad = None\n",
        "\n",
        "        if(id is None):\n",
        "            self.id = np.random.randint(0,1000000000)\n",
        "        else:\n",
        "            self.id = id\n",
        "        \n",
        "        self.creators = creators\n",
        "        self.creation_op = creation_op\n",
        "        self.children = {}\n",
        "        \n",
        "        if(creators is not None):\n",
        "            for c in creators:\n",
        "                if(self.id not in c.children):\n",
        "                    c.children[self.id] = 1\n",
        "                else:\n",
        "                    c.children[self.id] += 1\n",
        "\n",
        "    def all_children_grads_accounted_for(self):\n",
        "        for id,cnt in self.children.items():\n",
        "            if(cnt != 0):\n",
        "                return False\n",
        "        return True \n",
        "        \n",
        "    def backward(self,grad=None, grad_origin=None):\n",
        "        if(self.autograd):\n",
        " \n",
        "            if(grad is None):\n",
        "                grad = FloatTensor(np.ones_like(self.data))\n",
        "\n",
        "            if(grad_origin is not None):\n",
        "                if(self.children[grad_origin.id] == 0):\n",
        "                    return\n",
        "                    print(self.id)\n",
        "                    print(self.creation_op)\n",
        "                    print(len(self.creators))\n",
        "                    for c in self.creators:\n",
        "                        print(c.creation_op)\n",
        "                    raise Exception(\"cannot backprop more than once\")\n",
        "                else:\n",
        "                    self.children[grad_origin.id] -= 1\n",
        "\n",
        "            if(self.grad is None):\n",
        "                self.grad = grad\n",
        "            else:\n",
        "                self.grad += grad\n",
        "            \n",
        "            # grads must not have grads of their own\n",
        "            assert grad.autograd == False\n",
        "            \n",
        "            # only continue backpropping if there's something to\n",
        "            # backprop into and if all gradients (from children)\n",
        "            # are accounted for override waiting for children if\n",
        "            # \"backprop\" was called on this variable directly\n",
        "            if(self.creators is not None and \n",
        "               (self.all_children_grads_accounted_for() or \n",
        "                grad_origin is None)):\n",
        "\n",
        "                if(self.creation_op == \"add\"):\n",
        "                    self.creators[0].backward(self.grad, self)\n",
        "                    self.creators[1].backward(self.grad, self)\n",
        "                    \n",
        "                if(self.creation_op == \"sub\"):\n",
        "                    self.creators[0].backward(Tensor(self.grad.data), self)\n",
        "                    self.creators[1].backward(Tensor(self.grad.__neg__().data), self)\n",
        "\n",
        "                if(self.creation_op == \"mul\"):\n",
        "                    new = self.grad * self.creators[1]\n",
        "                    self.creators[0].backward(new , self)\n",
        "                    new = self.grad * self.creators[0]\n",
        "                    self.creators[1].backward(new, self)                    \n",
        "                    \n",
        "                if(self.creation_op == \"mm\"):\n",
        "                    c0 = self.creators[0]\n",
        "                    c1 = self.creators[1]\n",
        "                    new = self.grad.mm(c1.transpose())\n",
        "                    c0.backward(new)\n",
        "                    new = self.grad.transpose().mm(c0).transpose()\n",
        "                    c1.backward(new)\n",
        "                    \n",
        "                if(self.creation_op == \"transpose\"):\n",
        "                    self.creators[0].backward(self.grad.transpose())\n",
        "\n",
        "                if(\"sum\" in self.creation_op):\n",
        "                    dim = int(self.creation_op.split(\"_\")[1])\n",
        "                    self.creators[0].backward(self.grad.expand(dim,\n",
        "                                                               self.creators[0].data.shape[dim]))\n",
        "\n",
        "                if(\"expand\" in self.creation_op):\n",
        "                    dim = int(self.creation_op.split(\"_\")[1])\n",
        "                    self.creators[0].backward(self.grad.sum(dim))\n",
        "                    \n",
        "                if(self.creation_op == \"neg\"):\n",
        "                    self.creators[0].backward(self.grad.__neg__())\n",
        "                    \n",
        "                if(self.creation_op == \"sigmoid\"):\n",
        "                    ones = Tensor(np.ones_like(self.grad.data))\n",
        "                    self.creators[0].backward(self.grad * (self * (ones - self)))\n",
        "                \n",
        "                if(self.creation_op == \"tanh\"):\n",
        "                    ones = Tensor(np.ones_like(self.grad.data))\n",
        "                    self.creators[0].backward(self.grad * (ones - (self * self)))\n",
        "                \n",
        "                if self.creation_op == \"softmax\":\n",
        "                    self.creators[0].backward(self.grad)\n",
        "\n",
        "                if(self.creation_op == \"index_select\"):\n",
        "                    new_grad = np.zeros_like(self.creators[0].data)\n",
        "                    indices_ = self.index_select_indices.data.flatten()\n",
        "                    grad_ = grad.data.reshape(len(indices_), -1)\n",
        "                    for i in range(len(indices_)):\n",
        "                        new_grad[indices_[i]] += grad_[i]\n",
        "                    self.creators[0].backward(Tensor(new_grad))\n",
        "                    \n",
        "                if(self.creation_op == \"cross_entropy\"):\n",
        "                    dx = self.softmax_output - self.target_dist\n",
        "                    self.creators[0].backward(Tensor(dx))\n",
        "                    \n",
        "    def __add__(self, other):\n",
        "        if(self.autograd and other.autograd):\n",
        "            return Tensor(self.data + other.data,\n",
        "                          autograd=True,\n",
        "                          creators=[self,other],\n",
        "                          creation_op=\"add\")\n",
        "        return Tensor(self.data + other.data)\n",
        "\n",
        "    def __neg__(self):\n",
        "        if(self.autograd):\n",
        "            return Tensor(self.data * -1,\n",
        "                          autograd=True,\n",
        "                          creators=[self],\n",
        "                          creation_op=\"neg\")\n",
        "        return Tensor(self.data * -1)\n",
        "    \n",
        "    def __sub__(self, other):\n",
        "        if(self.autograd and other.autograd):\n",
        "            return Tensor(self.data - other.data,\n",
        "                          autograd=True,\n",
        "                          creators=[self,other],\n",
        "                          creation_op=\"sub\")\n",
        "        return Tensor(self.data - other.data)\n",
        "    \n",
        "    def __mul__(self, other):\n",
        "        if(self.autograd and other.autograd):\n",
        "            return Tensor(self.data * other.data,\n",
        "                          autograd=True,\n",
        "                          creators=[self,other],\n",
        "                          creation_op=\"mul\")\n",
        "        return Tensor(self.data * other.data)    \n",
        "\n",
        "    def sum(self, dim):\n",
        "        if(self.autograd):\n",
        "            return Tensor(self.data.sum(dim),\n",
        "                          autograd=True,\n",
        "                          creators=[self],\n",
        "                          creation_op=\"sum_\"+str(dim))\n",
        "        return Tensor(self.data.sum(dim))\n",
        "    \n",
        "    def expand(self, dim,copies):\n",
        "        trans_cmd = list(range(0,len(self.data.shape)))\n",
        "        trans_cmd.insert(dim,len(self.data.shape))\n",
        "        new_data = self.data.repeat(copies).reshape(list(self.data.shape) + [copies]).transpose(trans_cmd)\n",
        "        \n",
        "        if(self.autograd):\n",
        "            return Tensor(new_data,\n",
        "                          autograd=True,\n",
        "                          creators=[self],\n",
        "                          creation_op=\"expand_\"+str(dim))\n",
        "        return Tensor(new_data)\n",
        "    \n",
        "    def transpose(self):\n",
        "        if(self.autograd):\n",
        "            return Tensor(self.data.transpose(),\n",
        "                          autograd=True,\n",
        "                          creators=[self],\n",
        "                          creation_op=\"transpose\")\n",
        "        \n",
        "        return Tensor(self.data.transpose())\n",
        "    \n",
        "    def mm(self, x):\n",
        "        if(self.autograd):\n",
        "            return Tensor(self.data.dot(x.data),\n",
        "                          autograd=True,\n",
        "                          creators=[self,x],\n",
        "                          creation_op=\"mm\")\n",
        "        return Tensor(self.data.dot(x.data))\n",
        "    \n",
        "    def sigmoid(self):\n",
        "        if(self.autograd):\n",
        "            return Tensor(1 / (1 + np.exp(-self.data)),\n",
        "                          autograd=True,\n",
        "                          creators=[self],\n",
        "                          creation_op=\"sigmoid\")\n",
        "        return Tensor(1 / (1 + np.exp(-self.data)))\n",
        "\n",
        "    def tanh(self):\n",
        "        if(self.autograd):\n",
        "            return Tensor(np.tanh(self.data),\n",
        "                          autograd=True,\n",
        "                          creators=[self],\n",
        "                          creation_op=\"tanh\")\n",
        "        return Tensor(np.tanh(self.data))\n",
        "    \n",
        "    def index_select(self, indices):\n",
        "\n",
        "        if(self.autograd):\n",
        "            new = Tensor(self.data[indices.data],\n",
        "                         autograd=True,\n",
        "                         creators=[self],\n",
        "                         creation_op=\"index_select\")\n",
        "            new.index_select_indices = indices\n",
        "            return new\n",
        "        return Tensor(self.data[indices.data])\n",
        "    \n",
        "    def shape(self):\n",
        "      return self.data.shape\n",
        "    \n",
        "    def softmax(self):\n",
        "        x = self.data - self.data.max(axis=1, keepdims=True)\n",
        "        y = np.exp(x)\n",
        "        v = y / y.sum(axis=1, keepdims=True)\n",
        "\n",
        "        if(self.autograd):\n",
        "            return Tensor(v,\n",
        "                          autograd=True,\n",
        "                          creators=[self],\n",
        "                          creation_op=\"softmax\")\n",
        "        return Tensor(v)\n",
        "\n",
        "    def cross_entropy(self, target_indices):\n",
        "        temp = np.exp(self.data)\n",
        "        softmax_output = temp / np.sum(temp,\n",
        "                                       axis=len(self.data.shape)-1,\n",
        "                                       keepdims=True)\n",
        "        \n",
        "        t = target_indices.data.flatten()\n",
        "        p = softmax_output.reshape(len(t),-1)\n",
        "        target_dist = np.eye(p.shape[1])[t]\n",
        "        loss = -(np.log(p) * (target_dist)).sum(1).mean()\n",
        "    \n",
        "        if(self.autograd):\n",
        "            out = Tensor(loss,\n",
        "                         autograd=True,\n",
        "                         creators=[self],\n",
        "                         creation_op=\"cross_entropy\")\n",
        "            out.softmax_output = softmax_output\n",
        "            out.target_dist = target_dist\n",
        "            return out\n",
        "\n",
        "        return Tensor(loss)\n",
        "        \n",
        "    def __repr__(self):\n",
        "        return str(self.data.__repr__())\n",
        "    \n",
        "    def __str__(self):\n",
        "        return str(self.data.__str__())  \n"
      ],
      "execution_count": null,
      "outputs": []
    },
    {
      "cell_type": "markdown",
      "metadata": {
        "id": "ObOy8jHGhoj6"
      },
      "source": [
        "#Unit Tests"
      ]
    },
    {
      "cell_type": "markdown",
      "metadata": {
        "id": "HHety9cgjJ5W"
      },
      "source": [
        "##Add"
      ]
    },
    {
      "cell_type": "code",
      "metadata": {
        "id": "zcOt0KRfz390"
      },
      "source": [
        "def add():\n",
        "  a = Tensor([1, 2, 3, 4, 5], autograd=True)\n",
        "  b = Tensor([2, 2, 2, 2, 2], autograd=True)\n",
        "\n",
        "  c = a + b\n",
        "  c.backward(Tensor(np.array([1, 1, 1, 1, 1])))\n",
        "\n",
        "  np.testing.assert_array_equal(a.grad.data, [1, 1, 1, 1, 1])\n",
        "  np.testing.assert_array_equal(b.grad.data, [1, 1, 1, 1, 1])"
      ],
      "execution_count": null,
      "outputs": []
    },
    {
      "cell_type": "markdown",
      "metadata": {
        "id": "Cwj4FPp4jLj5"
      },
      "source": [
        "##Subtraction"
      ]
    },
    {
      "cell_type": "code",
      "metadata": {
        "id": "AFUYRtAb0QFd"
      },
      "source": [
        "def sub():\n",
        "  a = Tensor([1, 2, 3, 4, 5], autograd=True)\n",
        "  b = Tensor([2, 2, 2, 2, 2], autograd=True)\n",
        "\n",
        "  c = a - b\n",
        "  c.backward(Tensor(np.array([1, 1, 1, 1, 1])))\n",
        "  \n",
        "  np.testing.assert_array_equal(a.grad.data, [1, 1, 1, 1, 1])\n",
        "  np.testing.assert_array_equal(b.grad.data, [-1, -1, -1, -1, -1])"
      ],
      "execution_count": null,
      "outputs": []
    },
    {
      "cell_type": "markdown",
      "metadata": {
        "id": "ci8UeSZFjNeD"
      },
      "source": [
        "##Multiplication"
      ]
    },
    {
      "cell_type": "code",
      "metadata": {
        "id": "l3HlXT1J1ONf"
      },
      "source": [
        "def mul():\n",
        "  a = Tensor([1, 2, 3, 4, 5], autograd=True)\n",
        "  b = Tensor([2, 2, 2, 2, 2], autograd=True)\n",
        "\n",
        "  e = a * b\n",
        "  e.backward(Tensor(np.array([1, 1, 1, 1, 1])))\n",
        "\n",
        "  np.testing.assert_array_equal(a.grad.data, [2, 2, 2, 2, 2])\n",
        "  np.testing.assert_array_equal(b.grad.data, [1, 2, 3, 4, 5])"
      ],
      "execution_count": null,
      "outputs": []
    },
    {
      "cell_type": "markdown",
      "metadata": {
        "id": "7rCp5gYnhrYt"
      },
      "source": [
        "#Loading MNIST dataset"
      ]
    },
    {
      "cell_type": "code",
      "metadata": {
        "id": "89FRG-vx4WKi"
      },
      "source": [
        "import numpy as np\n",
        "import matplotlib.pyplot as plt\n",
        "import tensorflow as tf\n",
        "from keras.datasets import mnist\n",
        "from sklearn.metrics import mean_squared_error\n",
        "import itertools\n",
        "import math\n",
        "from sklearn.metrics import confusion_matrix\n",
        "from sklearn.model_selection import train_test_split\n",
        "from keras.preprocessing.image import ImageDataGenerator"
      ],
      "execution_count": null,
      "outputs": []
    },
    {
      "cell_type": "code",
      "metadata": {
        "id": "WDf_O9KQlzHu"
      },
      "source": [
        "(X_train, y_train), (X_test, y_test) = mnist.load_data()"
      ],
      "execution_count": null,
      "outputs": []
    },
    {
      "cell_type": "markdown",
      "metadata": {
        "id": "4MQ1SddhkyL7"
      },
      "source": [
        "#Data Visualization"
      ]
    },
    {
      "cell_type": "code",
      "metadata": {
        "id": "eYyDj85ViIg1"
      },
      "source": [
        "def visualize__dataset(dataset, N, name):\n",
        "  print(\"Visualizing the \" + name + \" dataset.\")\n",
        "  fig = plt.figure(figsize=plt.figaspect(0.3))\n",
        "\n",
        "  for image in range(0, N):\n",
        "    ax = fig.add_subplot(1, 10, image+1)\n",
        "    ax.imshow(dataset[image], cmap='Accent')"
      ],
      "execution_count": null,
      "outputs": []
    },
    {
      "cell_type": "code",
      "metadata": {
        "colab": {
          "base_uri": "https://localhost:8080/",
          "height": 131
        },
        "id": "BDMRcZRiiYYu",
        "outputId": "c6d5077f-b535-45df-9aae-9ccb0ecec0a5"
      },
      "source": [
        "n = 10\n",
        "visualize__dataset(X_train, n, \"train\")"
      ],
      "execution_count": null,
      "outputs": [
        {
          "output_type": "stream",
          "text": [
            "Visualizing the train dataset.\n"
          ],
          "name": "stdout"
        },
        {
          "output_type": "display_data",
          "data": {
            "image/png": "[encoded data removed]",
            "text/plain": [
              "<Figure size 960x288 with 10 Axes>"
            ]
          },
          "metadata": {
            "tags": [],
            "needs_background": "light"
          }
        }
      ]
    },
    {
      "cell_type": "code",
      "metadata": {
        "id": "wjo3XMcbmVmw"
      },
      "source": [
        "from keras.utils import np_utils"
      ],
      "execution_count": null,
      "outputs": []
    },
    {
      "cell_type": "code",
      "metadata": {
        "id": "PhgSiX8YibcF"
      },
      "source": [
        "X_train = X_train.reshape(X_train.shape[0], 28*28) / 255.\n",
        "X_test = X_test.reshape(X_test.shape[0], 28*28) / 255.\n",
        "y_train = np_utils.to_categorical(y_train)\n",
        "y_test = np_utils.to_categorical(y_test)"
      ],
      "execution_count": null,
      "outputs": []
    },
    {
      "cell_type": "code",
      "metadata": {
        "id": "wfij0-pck8bE"
      },
      "source": [
        "X_train = X_train[:10]\n",
        "y_train = y_train[:10]\n",
        "X_test = X_test[:100]\n",
        "y_test = y_test[:100]\n",
        "input_dim = X_train.shape[1]\n",
        "num_classes = y_test.shape[1]"
      ],
      "execution_count": null,
      "outputs": []
    },
    {
      "cell_type": "markdown",
      "metadata": {
        "id": "giXcIXy0lL71"
      },
      "source": [
        "#Train Classifier"
      ]
    },
    {
      "cell_type": "code",
      "metadata": {
        "colab": {
          "base_uri": "https://localhost:8080/"
        },
        "id": "STkoPa7blK3N",
        "outputId": "a591bc6c-1430-40c7-ff89-225a4451385f"
      },
      "source": [
        "data = Tensor(X_train, autograd=True)\n",
        "expected = Tensor(y_train, autograd=True)\n",
        "\n",
        "weights = []\n",
        "weights.append(Tensor(np.random.rand(input_dim, 64), autograd=True))\n",
        "weights.append(Tensor(np.random.rand(64, 10), autograd=True))\n",
        "learning_rate = 0.0001\n",
        " \n",
        "for i in range(10):\n",
        "\n",
        "  predicted = data.mm(weights[0]).mm(weights[1]).softmax()\n",
        "  loss = ((predicted - expected) * (predicted - expected)).sum(0)\n",
        "  loss.backward(Tensor(np.ones_like(loss.data)))\n",
        "  for wts in weights:\n",
        "    wts.data -= wts.grad.data*learning_rate\n",
        "    wts.grad.data = wts.grad.data*0\n",
        "    print(np.mean(loss.data))"
      ],
      "execution_count": null,
      "outputs": [
        {
          "output_type": "stream",
          "text": [
            "1.599465657533295\n",
            "1.599465657533295\n",
            "1.6541062867850265\n",
            "1.6541062867850265\n",
            "1.7765837817684642\n",
            "1.7765837817684642\n",
            "1.7999999999157268\n",
            "1.7999999999157268\n",
            "1.4000000000030013\n",
            "1.4000000000030013\n",
            "1.7812403419274634\n",
            "1.7812403419274634\n",
            "1.7999577946503098\n",
            "1.7999577946503098\n",
            "1.6\n",
            "1.6\n",
            "1.7203136364865\n",
            "1.7203136364865\n",
            "1.6404982125161751\n",
            "1.6404982125161751\n"
          ],
          "name": "stdout"
        }
      ]
    },
    {
      "cell_type": "code",
      "metadata": {
        "id": "fe135iWtlO8u"
      },
      "source": [
        ""
      ],
      "execution_count": null,
      "outputs": []
    }
  ]
}