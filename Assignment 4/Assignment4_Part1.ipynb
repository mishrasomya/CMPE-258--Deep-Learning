{
  "nbformat": 4,
  "nbformat_minor": 0,
  "metadata": {
    "colab": {
      "name": "Assignment4_Part1.ipynb",
      "provenance": [],
      "collapsed_sections": [],
      "toc_visible": true
    },
    "kernelspec": {
      "name": "python3",
      "display_name": "Python 3"
    },
    "language_info": {
      "name": "python"
    },
    "accelerator": "GPU"
  },
  "cells": [
    {
      "cell_type": "markdown",
      "metadata": {
        "id": "z4_e5gMMzGPU"
      },
      "source": [
        "## **MNIST Numpy Classifier**"
      ]
    },
    {
      "cell_type": "markdown",
      "metadata": {
        "id": "LZhE2PLKzYhj"
      },
      "source": [
        "#Importing necessary libraries"
      ]
    },
    {
      "cell_type": "code",
      "metadata": {
        "id": "pN3RFpRn-qjy"
      },
      "source": [
        "import itertools\n",
        "import numpy as np\n",
        "import pandas as pd\n",
        "import matplotlib.pyplot as plt\n",
        "from sklearn.metrics import mean_squared_error, accuracy_score\n",
        "from sklearn.metrics import confusion_matrix\n",
        "from keras.datasets import mnist\n",
        "from keras.utils import np_utils\n",
        "from keras.models import Sequential\n",
        "from keras.layers.core import Flatten, Dense, Activation, Dropout, Reshape\n",
        "import sys\n",
        "import seaborn as sns"
      ],
      "execution_count": 122,
      "outputs": []
    },
    {
      "cell_type": "code",
      "metadata": {
        "id": "_QbyeCExAGHF"
      },
      "source": [
        "import tensorflow as tf\n",
        "from tensorflow import keras\n",
        "from tensorflow.keras.preprocessing.image import ImageDataGenerator"
      ],
      "execution_count": 55,
      "outputs": []
    },
    {
      "cell_type": "code",
      "metadata": {
        "id": "etFEIiz4AHjh"
      },
      "source": [
        "from sklearn.model_selection import train_test_split\n",
        "from sklearn.metrics import confusion_matrix"
      ],
      "execution_count": 56,
      "outputs": []
    },
    {
      "cell_type": "markdown",
      "metadata": {
        "id": "SFyZNRKCzlUj"
      },
      "source": [
        "#Load data from Keras"
      ]
    },
    {
      "cell_type": "code",
      "metadata": {
        "id": "Fr38JyNWAJDJ"
      },
      "source": [
        "from keras.datasets import mnist\n",
        "(X_train, y_train), (X_test, y_test) = mnist.load_data()\n",
        "\n",
        "digits, labels = (X_train[0:1000].reshape(1000,28*28) / 255, y_train[0:1000])"
      ],
      "execution_count": 57,
      "outputs": []
    },
    {
      "cell_type": "code",
      "metadata": {
        "colab": {
          "base_uri": "https://localhost:8080/"
        },
        "id": "oml5wtkyJvQv",
        "outputId": "14b80bd5-ba7d-43d9-9f2e-93fe4ff587cd"
      },
      "source": [
        "X_train.size"
      ],
      "execution_count": 58,
      "outputs": [
        {
          "output_type": "execute_result",
          "data": {
            "text/plain": [
              "47040000"
            ]
          },
          "metadata": {
            "tags": []
          },
          "execution_count": 58
        }
      ]
    },
    {
      "cell_type": "code",
      "metadata": {
        "colab": {
          "base_uri": "https://localhost:8080/"
        },
        "id": "9I1-mindJw3e",
        "outputId": "743df879-84d2-4c86-fc86-9591a7aa61ac"
      },
      "source": [
        "X_test.size"
      ],
      "execution_count": 59,
      "outputs": [
        {
          "output_type": "execute_result",
          "data": {
            "text/plain": [
              "7840000"
            ]
          },
          "metadata": {
            "tags": []
          },
          "execution_count": 59
        }
      ]
    },
    {
      "cell_type": "code",
      "metadata": {
        "colab": {
          "base_uri": "https://localhost:8080/"
        },
        "id": "8A0LEH6NJ5AZ",
        "outputId": "14936bfb-8cdd-4680-c9d2-7536426107d0"
      },
      "source": [
        "X_train.shape"
      ],
      "execution_count": 60,
      "outputs": [
        {
          "output_type": "execute_result",
          "data": {
            "text/plain": [
              "(60000, 28, 28)"
            ]
          },
          "metadata": {
            "tags": []
          },
          "execution_count": 60
        }
      ]
    },
    {
      "cell_type": "code",
      "metadata": {
        "colab": {
          "base_uri": "https://localhost:8080/"
        },
        "id": "1BX3Ew9XJ7-w",
        "outputId": "6cabbdb1-3e12-4664-acba-f295af708cc3"
      },
      "source": [
        "X_test.shape"
      ],
      "execution_count": 61,
      "outputs": [
        {
          "output_type": "execute_result",
          "data": {
            "text/plain": [
              "(10000, 28, 28)"
            ]
          },
          "metadata": {
            "tags": []
          },
          "execution_count": 61
        }
      ]
    },
    {
      "cell_type": "markdown",
      "metadata": {
        "id": "KEA8ohOB1GV0"
      },
      "source": [
        "#Visualize data"
      ]
    },
    {
      "cell_type": "code",
      "metadata": {
        "id": "up9hvcSS0vTh"
      },
      "source": [
        "sns.set(style='white', context='notebook', palette='deep')\n",
        "def countplot(values):\n",
        "  sns.countplot(values)"
      ],
      "execution_count": 62,
      "outputs": []
    },
    {
      "cell_type": "code",
      "metadata": {
        "id": "cgJKxN-k1Arx"
      },
      "source": [
        "def plot_confusion_matrix(cm, classes,normalize=False,title='Confusion matrix', cmap=plt.cm.Blues):\n",
        "    plt.imshow(cm, interpolation='nearest', cmap=cmap)\n",
        "    plt.title(title)\n",
        "    plt.colorbar()\n",
        "    tick_marks = np.arange(len(classes))\n",
        "    plt.xticks(tick_marks, classes, rotation=45)\n",
        "    plt.yticks(tick_marks, classes)\n",
        "\n",
        "    if normalize:\n",
        "        cm = cm.astype('float') / cm.sum(axis=1)[:, np.newaxis]\n",
        "\n",
        "    thresh = cm.max() / 2.\n",
        "    for i, j in itertools.product(range(cm.shape[0]), range(cm.shape[1])):\n",
        "        plt.text(j, i, cm[i, j],\n",
        "                 horizontalalignment=\"center\",\n",
        "                 color=\"white\" if cm[i, j] > thresh else \"black\")\n",
        "\n",
        "    plt.tight_layout()\n",
        "    plt.ylabel('True label')\n",
        "    plt.xlabel('Predicted label')\n",
        "    plt.show()\n",
        "    return plt"
      ],
      "execution_count": 63,
      "outputs": []
    },
    {
      "cell_type": "code",
      "metadata": {
        "colab": {
          "base_uri": "https://localhost:8080/",
          "height": 323
        },
        "id": "VVibmff_1Edi",
        "outputId": "34802ece-b60f-428c-c8e0-32080f4657ba"
      },
      "source": [
        "countplot(y_train)"
      ],
      "execution_count": 64,
      "outputs": [
        {
          "output_type": "stream",
          "text": [
            "/usr/local/lib/python3.7/dist-packages/seaborn/_decorators.py:43: FutureWarning: Pass the following variable as a keyword arg: x. From version 0.12, the only valid positional argument will be `data`, and passing other arguments without an explicit keyword will result in an error or misinterpretation.\n",
            "  FutureWarning\n"
          ],
          "name": "stderr"
        },
        {
          "output_type": "display_data",
          "data": {
            "image/png": "[encoded data removed]",
            "text/plain": [
              "<Figure size 432x288 with 1 Axes>"
            ]
          },
          "metadata": {
            "tags": []
          }
        }
      ]
    },
    {
      "cell_type": "markdown",
      "metadata": {
        "id": "1a0mz61P0L_F"
      },
      "source": [
        "#One hot encoding"
      ]
    },
    {
      "cell_type": "code",
      "metadata": {
        "id": "x6cBXvetATzC"
      },
      "source": [
        "#converting integer to binary variables\n",
        "encode_labels = np.zeros((len(labels),10))\n",
        "\n",
        "for i,l in enumerate(labels):\n",
        "    encode_labels[i][l] = 1\n",
        "labels = encode_labels"
      ],
      "execution_count": 65,
      "outputs": []
    },
    {
      "cell_type": "code",
      "metadata": {
        "id": "x3zbbJoBDe6e"
      },
      "source": [
        "#reshape digits\n",
        "X_train = X_train.reshape(-1,28,28,1)\n",
        "X_test = X_test.reshape(-1,28,28,1)"
      ],
      "execution_count": 105,
      "outputs": []
    },
    {
      "cell_type": "code",
      "metadata": {
        "id": "hGRbV4agMT7e"
      },
      "source": [
        "test_digits = X_test.reshape(len(X_test),28*28) / 255\n",
        "test_labels = np.zeros((len(y_test),10))\n",
        "for i,l in enumerate(y_test):\n",
        "    test_labels[i][l] = 1"
      ],
      "execution_count": 106,
      "outputs": []
    },
    {
      "cell_type": "code",
      "metadata": {
        "colab": {
          "base_uri": "https://localhost:8080/",
          "height": 270
        },
        "id": "-E2h6MABEKnM",
        "outputId": "46e2ebdb-06ed-4d77-9124-7272d986d447"
      },
      "source": [
        "#Plot the digit images in grayscale\n",
        "plt.subplot(221)\n",
        "plt.imshow(X_train[0][:,:,0], cmap=plt.get_cmap('gray'))\n",
        "plt.subplot(222)\n",
        "plt.imshow(X_train[1][:,:,0], cmap=plt.get_cmap('gray'))\n",
        "plt.subplot(223)\n",
        "plt.imshow(X_train[2][:,:,0], cmap=plt.get_cmap('gray'))\n",
        "plt.subplot(224)\n",
        "plt.imshow(X_train[3][:,:,0], cmap=plt.get_cmap('gray'))\n",
        "# show the plot\n",
        "plt.show()"
      ],
      "execution_count": 107,
      "outputs": [
        {
          "output_type": "display_data",
          "data": {
            "image/png": "[encoded data removed]",
            "text/plain": [
              "<Figure size 432x288 with 4 Axes>"
            ]
          },
          "metadata": {
            "tags": []
          }
        }
      ]
    },
    {
      "cell_type": "markdown",
      "metadata": {
        "id": "3o88NO9p1eyR"
      },
      "source": [
        "#Input Normalization"
      ]
    },
    {
      "cell_type": "code",
      "metadata": {
        "id": "Sdy-FTK1EOQq"
      },
      "source": [
        "X_train = X_train / 255.0\n",
        "X_test = X_test / 255.0"
      ],
      "execution_count": 70,
      "outputs": []
    },
    {
      "cell_type": "code",
      "metadata": {
        "id": "tbvo671IESZy"
      },
      "source": [
        "#activation function\n",
        "np.random.seed(1)\n",
        "\n",
        "# returns x if x > 0, return 0 otherwise\n",
        "Relu = lambda x:(x>=0) * x \n",
        "\n",
        "# returns 1 for input > 0, return 0 otherwise\n",
        "Relu_derivative = lambda x: x>=0 "
      ],
      "execution_count": 71,
      "outputs": []
    },
    {
      "cell_type": "code",
      "metadata": {
        "id": "y5IFVafGEUtx"
      },
      "source": [
        "lr, epoch, hidden_size, pixels, numLabels = (0.005, 100, 40, 784, 10)"
      ],
      "execution_count": 111,
      "outputs": []
    },
    {
      "cell_type": "code",
      "metadata": {
        "id": "K7uZRdvdEYHs"
      },
      "source": [
        "#weights initialization\n",
        "weights0_1 = 0.2*np.random.random((pixels,hidden_size)) - 0.1\n",
        "weights1_2 = 0.2*np.random.random((hidden_size,numLabels)) - 0.1"
      ],
      "execution_count": 112,
      "outputs": []
    },
    {
      "cell_type": "markdown",
      "metadata": {
        "id": "2qO5GY7b5GSD"
      },
      "source": [
        "#Dropout"
      ]
    },
    {
      "cell_type": "code",
      "metadata": {
        "id": "VmK76YlDLagK"
      },
      "source": [
        "def dropout_mask(layer, drop):\n",
        "  return np.random.randint(drop, size=layer.shape)"
      ],
      "execution_count": 113,
      "outputs": []
    },
    {
      "cell_type": "code",
      "metadata": {
        "colab": {
          "base_uri": "https://localhost:8080/"
        },
        "id": "-oRVAkH8IQry",
        "outputId": "9301d5ca-7300-4e45-811a-99b07a345d70"
      },
      "source": [
        "for j in range(epoch):\n",
        "    error, correctCnt = (0.0, 0)\n",
        "\n",
        "    for i in range(len(digits)):\n",
        "        layer_0 = digits[i:i+1]\n",
        "        layer_1 = Relu(np.dot(layer_0,weights0_1))\n",
        "        layer_2 = np.dot(layer_1,weights1_2)\n",
        "\n",
        "        error += np.sum((labels[i:i+1] - layer_2) ** 2)\n",
        "        correctCnt += int(np.argmax(layer_2) == np.argmax(labels[i:i+1]))\n",
        "\n",
        "        layer_2_deltaChange = (labels[i:i+1] - layer_2)\n",
        "        layer_1_deltaChange = layer_2_deltaChange.dot(weights1_2.T) * Relu_derivative(layer_1)\n",
        "\n",
        "        weights1_2 += lr * layer_1.T.dot(layer_2_deltaChange)\n",
        "        weights0_1 += lr * layer_0.T.dot(layer_1_deltaChange)\n",
        "        \n",
        "    print(\"\\r Epoch:\" + str(j) + \" Training-Error:\" + str(error/float(len(digits)))[0:5] + \", Training-Accuracy:\" + str(correctCnt/float(len(digits))))"
      ],
      "execution_count": 114,
      "outputs": [
        {
          "output_type": "stream",
          "text": [
            " Epoch:0 Training-Error:0.727, Training-Accuracy:0.528\n",
            " Epoch:1 Training-Error:0.515, Training-Accuracy:0.775\n",
            " Epoch:2 Training-Error:0.444, Training-Accuracy:0.821\n",
            " Epoch:3 Training-Error:0.404, Training-Accuracy:0.832\n",
            " Epoch:4 Training-Error:0.374, Training-Accuracy:0.855\n",
            " Epoch:5 Training-Error:0.351, Training-Accuracy:0.863\n",
            " Epoch:6 Training-Error:0.332, Training-Accuracy:0.87\n",
            " Epoch:7 Training-Error:0.316, Training-Accuracy:0.887\n",
            " Epoch:8 Training-Error:0.302, Training-Accuracy:0.897\n",
            " Epoch:9 Training-Error:0.290, Training-Accuracy:0.905\n",
            " Epoch:10 Training-Error:0.280, Training-Accuracy:0.911\n",
            " Epoch:11 Training-Error:0.271, Training-Accuracy:0.919\n",
            " Epoch:12 Training-Error:0.263, Training-Accuracy:0.921\n",
            " Epoch:13 Training-Error:0.256, Training-Accuracy:0.923\n",
            " Epoch:14 Training-Error:0.250, Training-Accuracy:0.926\n",
            " Epoch:15 Training-Error:0.245, Training-Accuracy:0.929\n",
            " Epoch:16 Training-Error:0.240, Training-Accuracy:0.93\n",
            " Epoch:17 Training-Error:0.236, Training-Accuracy:0.933\n",
            " Epoch:18 Training-Error:0.232, Training-Accuracy:0.936\n",
            " Epoch:19 Training-Error:0.229, Training-Accuracy:0.936\n",
            " Epoch:20 Training-Error:0.225, Training-Accuracy:0.938\n",
            " Epoch:21 Training-Error:0.222, Training-Accuracy:0.939\n",
            " Epoch:22 Training-Error:0.219, Training-Accuracy:0.944\n",
            " Epoch:23 Training-Error:0.216, Training-Accuracy:0.945\n",
            " Epoch:24 Training-Error:0.214, Training-Accuracy:0.95\n",
            " Epoch:25 Training-Error:0.212, Training-Accuracy:0.952\n",
            " Epoch:26 Training-Error:0.209, Training-Accuracy:0.954\n",
            " Epoch:27 Training-Error:0.207, Training-Accuracy:0.958\n",
            " Epoch:28 Training-Error:0.205, Training-Accuracy:0.958\n",
            " Epoch:29 Training-Error:0.204, Training-Accuracy:0.958\n",
            " Epoch:30 Training-Error:0.202, Training-Accuracy:0.963\n",
            " Epoch:31 Training-Error:0.200, Training-Accuracy:0.963\n",
            " Epoch:32 Training-Error:0.199, Training-Accuracy:0.965\n",
            " Epoch:33 Training-Error:0.197, Training-Accuracy:0.965\n",
            " Epoch:34 Training-Error:0.196, Training-Accuracy:0.966\n",
            " Epoch:35 Training-Error:0.194, Training-Accuracy:0.967\n",
            " Epoch:36 Training-Error:0.193, Training-Accuracy:0.967\n",
            " Epoch:37 Training-Error:0.192, Training-Accuracy:0.969\n",
            " Epoch:38 Training-Error:0.190, Training-Accuracy:0.97\n",
            " Epoch:39 Training-Error:0.189, Training-Accuracy:0.97\n",
            " Epoch:40 Training-Error:0.188, Training-Accuracy:0.97\n",
            " Epoch:41 Training-Error:0.187, Training-Accuracy:0.97\n",
            " Epoch:42 Training-Error:0.186, Training-Accuracy:0.97\n",
            " Epoch:43 Training-Error:0.184, Training-Accuracy:0.97\n",
            " Epoch:44 Training-Error:0.183, Training-Accuracy:0.971\n",
            " Epoch:45 Training-Error:0.182, Training-Accuracy:0.973\n",
            " Epoch:46 Training-Error:0.181, Training-Accuracy:0.974\n",
            " Epoch:47 Training-Error:0.180, Training-Accuracy:0.975\n",
            " Epoch:48 Training-Error:0.179, Training-Accuracy:0.977\n",
            " Epoch:49 Training-Error:0.178, Training-Accuracy:0.977\n",
            " Epoch:50 Training-Error:0.177, Training-Accuracy:0.978\n",
            " Epoch:51 Training-Error:0.177, Training-Accuracy:0.978\n",
            " Epoch:52 Training-Error:0.176, Training-Accuracy:0.978\n",
            " Epoch:53 Training-Error:0.175, Training-Accuracy:0.978\n",
            " Epoch:54 Training-Error:0.174, Training-Accuracy:0.98\n",
            " Epoch:55 Training-Error:0.173, Training-Accuracy:0.98\n",
            " Epoch:56 Training-Error:0.172, Training-Accuracy:0.98\n",
            " Epoch:57 Training-Error:0.172, Training-Accuracy:0.98\n",
            " Epoch:58 Training-Error:0.171, Training-Accuracy:0.98\n",
            " Epoch:59 Training-Error:0.170, Training-Accuracy:0.98\n",
            " Epoch:60 Training-Error:0.170, Training-Accuracy:0.98\n",
            " Epoch:61 Training-Error:0.169, Training-Accuracy:0.98\n",
            " Epoch:62 Training-Error:0.168, Training-Accuracy:0.98\n",
            " Epoch:63 Training-Error:0.168, Training-Accuracy:0.981\n",
            " Epoch:64 Training-Error:0.167, Training-Accuracy:0.982\n",
            " Epoch:65 Training-Error:0.166, Training-Accuracy:0.982\n",
            " Epoch:66 Training-Error:0.166, Training-Accuracy:0.982\n",
            " Epoch:67 Training-Error:0.165, Training-Accuracy:0.982\n",
            " Epoch:68 Training-Error:0.165, Training-Accuracy:0.982\n",
            " Epoch:69 Training-Error:0.164, Training-Accuracy:0.982\n",
            " Epoch:70 Training-Error:0.163, Training-Accuracy:0.982\n",
            " Epoch:71 Training-Error:0.163, Training-Accuracy:0.982\n",
            " Epoch:72 Training-Error:0.162, Training-Accuracy:0.982\n",
            " Epoch:73 Training-Error:0.162, Training-Accuracy:0.982\n",
            " Epoch:74 Training-Error:0.161, Training-Accuracy:0.982\n",
            " Epoch:75 Training-Error:0.161, Training-Accuracy:0.982\n",
            " Epoch:76 Training-Error:0.160, Training-Accuracy:0.982\n",
            " Epoch:77 Training-Error:0.159, Training-Accuracy:0.982\n",
            " Epoch:78 Training-Error:0.159, Training-Accuracy:0.983\n",
            " Epoch:79 Training-Error:0.158, Training-Accuracy:0.983\n",
            " Epoch:80 Training-Error:0.158, Training-Accuracy:0.982\n",
            " Epoch:81 Training-Error:0.157, Training-Accuracy:0.982\n",
            " Epoch:82 Training-Error:0.157, Training-Accuracy:0.982\n",
            " Epoch:83 Training-Error:0.156, Training-Accuracy:0.983\n",
            " Epoch:84 Training-Error:0.156, Training-Accuracy:0.984\n",
            " Epoch:85 Training-Error:0.155, Training-Accuracy:0.984\n",
            " Epoch:86 Training-Error:0.155, Training-Accuracy:0.984\n",
            " Epoch:87 Training-Error:0.155, Training-Accuracy:0.984\n",
            " Epoch:88 Training-Error:0.154, Training-Accuracy:0.984\n",
            " Epoch:89 Training-Error:0.154, Training-Accuracy:0.984\n",
            " Epoch:90 Training-Error:0.153, Training-Accuracy:0.985\n",
            " Epoch:91 Training-Error:0.153, Training-Accuracy:0.987\n",
            " Epoch:92 Training-Error:0.152, Training-Accuracy:0.987\n",
            " Epoch:93 Training-Error:0.152, Training-Accuracy:0.987\n",
            " Epoch:94 Training-Error:0.152, Training-Accuracy:0.987\n",
            " Epoch:95 Training-Error:0.151, Training-Accuracy:0.987\n",
            " Epoch:96 Training-Error:0.151, Training-Accuracy:0.987\n",
            " Epoch:97 Training-Error:0.150, Training-Accuracy:0.987\n",
            " Epoch:98 Training-Error:0.150, Training-Accuracy:0.987\n",
            " Epoch:99 Training-Error:0.150, Training-Accuracy:0.987\n"
          ],
          "name": "stdout"
        }
      ]
    },
    {
      "cell_type": "markdown",
      "metadata": {
        "id": "m4AGJGHe7gpK"
      },
      "source": [
        "#Minibatch Gradient Descent"
      ]
    },
    {
      "cell_type": "code",
      "metadata": {
        "colab": {
          "base_uri": "https://localhost:8080/"
        },
        "id": "1QMy6gvq7lh0",
        "outputId": "9a38bdcd-226b-4412-e858-9e5c9d278ccd"
      },
      "source": [
        "import numpy, sys\n",
        "np.random.seed(1)\n",
        "\n",
        "def Relu(x):\n",
        "    # returns x if x > 0\n",
        "    return ( x >= 0 ) * x\n",
        "\n",
        "def Relu_derivative(output):\n",
        "    # returns 1 for input > 0\n",
        "    return output >= 0 \n",
        "\n",
        "minibatch = 64\n",
        "\n",
        "lr, epoch, hidden_size, = (0.005, 100, 100)\n",
        "pixels, numLabels = (784, 10)\n",
        "\n",
        "weights0_1 = 0.2*np.random.random((pixels, hidden_size)) - 0.1\n",
        "weights1_2 = 0.2*np.random.random((hidden_size, numLabels)) - 0.1\n",
        "\n",
        "for j in range(epoch):\n",
        "    error, correctCnt = (0.0, 0)\n",
        "\n",
        "    for i in range(int(len(digits) / minibatch)):\n",
        "        minibatch_start, minibatch_end = ((i * minibatch), ((i+1)*minibatch))\n",
        "\n",
        "        layer_0 = digits[minibatch_start:minibatch_end]\n",
        "        layer_1 = Relu(np.dot(layer_0,weights0_1))\n",
        "\n",
        "        # Adding Dropout\n",
        "        dropOut_mask = np.random.randint(2, size=layer_1.shape)\n",
        "\n",
        "        layer_1 *= dropOut_mask * 2\n",
        "        layer_2 = np.dot(layer_1, weights1_2)  \n",
        "\n",
        "        error += np.sum((labels[minibatch_start:minibatch_end] - layer_2) ** 2)\n",
        "        for k in range(minibatch):\n",
        "            correctCnt += int(np.argmax(layer_2[k:k+1]) == np.argmax(labels[minibatch_start+k:minibatch_start+k+1]))\n",
        "\n",
        "        layer_2_deltaChange = (labels[minibatch_start:minibatch_end] - layer_2) / minibatch\n",
        "        layer_1_deltaChange = layer_2_deltaChange.dot(weights1_2.T) * Relu_derivative(layer_1)\n",
        "\n",
        "        layer_1_deltaChange *+ dropOut_mask\n",
        "\n",
        "        weights1_2 += lr * layer_1.T.dot(layer_2_deltaChange)\n",
        "        weights0_1 += lr * layer_0.T.dot(layer_1_deltaChange)\n",
        "\n",
        "    if(j % 10 == 0 or j == epoch-1):\n",
        "        testError, testCorrectcnt = (0.0, 0)\n",
        "\n",
        "    for i in range(len(test_digits)):\n",
        "      \n",
        "        layer_0 = test_digits[i:i+1]\n",
        "        layer_1 = Relu(np.dot(layer_0,weights0_1))\n",
        "        layer_2 = np.dot(layer_1,weights1_2)\n",
        "\n",
        "        testError += np.sum((test_labels[i:i+1] - layer_2) ** 2)\n",
        "        testCorrectcnt += int(np.argmax(layer_2) == np.argmax(test_labels[i:i+1]))\n",
        "      \n",
        "\n",
        "    print(\"\\r Epoch:\" + str(j) + \" Training-Error:\" + str(error/float(len(digits)))[0:5] + \"-> Training-Accuracy:\" + str(correctCnt/float(len(digits))) + \\\n",
        "          \", Test-Error:\" + str(testError/float(len(test_digits)))[0:5] + \" -> Test-Accuracy:\" + str(testCorrectcnt/float(len(test_digits))))\n",
        "    # print(\"\\r Epoch:\" + str(j) + \" Training-Error:\" + str(error/float(len(digits)))[0:5] + \", Training-Accuracy:\" + str(correctCnt/float(len(digits))))"
      ],
      "execution_count": 115,
      "outputs": [
        {
          "output_type": "stream",
          "text": [
            " Epoch:0 Training-Error:1.722-> Training-Accuracy:0.081, Test-Error:0.999 -> Test-Accuracy:0.1119\n",
            " Epoch:1 Training-Error:1.439-> Training-Accuracy:0.104, Test-Error:1.998 -> Test-Accuracy:0.2711\n",
            " Epoch:2 Training-Error:1.332-> Training-Accuracy:0.152, Test-Error:2.997 -> Test-Accuracy:0.4721\n",
            " Epoch:3 Training-Error:1.277-> Training-Accuracy:0.146, Test-Error:3.996 -> Test-Accuracy:0.7134\n",
            " Epoch:4 Training-Error:1.189-> Training-Accuracy:0.183, Test-Error:4.994 -> Test-Accuracy:0.9908\n",
            " Epoch:5 Training-Error:1.139-> Training-Accuracy:0.206, Test-Error:5.993 -> Test-Accuracy:1.3057\n",
            " Epoch:6 Training-Error:1.116-> Training-Accuracy:0.21, Test-Error:6.991 -> Test-Accuracy:1.657\n",
            " Epoch:7 Training-Error:1.088-> Training-Accuracy:0.241, Test-Error:7.990 -> Test-Accuracy:2.0361\n",
            " Epoch:8 Training-Error:1.054-> Training-Accuracy:0.254, Test-Error:8.988 -> Test-Accuracy:2.4366\n",
            " Epoch:9 Training-Error:1.020-> Training-Accuracy:0.295, Test-Error:9.986 -> Test-Accuracy:2.8661\n",
            " Epoch:10 Training-Error:0.998-> Training-Accuracy:0.31, Test-Error:0.998 -> Test-Accuracy:0.4529\n",
            " Epoch:11 Training-Error:0.980-> Training-Accuracy:0.293, Test-Error:1.996 -> Test-Accuracy:0.9272\n",
            " Epoch:12 Training-Error:0.944-> Training-Accuracy:0.31, Test-Error:2.994 -> Test-Accuracy:1.4187\n",
            " Epoch:13 Training-Error:0.938-> Training-Accuracy:0.333, Test-Error:3.992 -> Test-Accuracy:1.9271\n",
            " Epoch:14 Training-Error:0.921-> Training-Accuracy:0.331, Test-Error:4.990 -> Test-Accuracy:2.4497\n",
            " Epoch:15 Training-Error:0.896-> Training-Accuracy:0.364, Test-Error:5.988 -> Test-Accuracy:2.9852\n",
            " Epoch:16 Training-Error:0.874-> Training-Accuracy:0.403, Test-Error:6.985 -> Test-Accuracy:3.5391\n",
            " Epoch:17 Training-Error:0.874-> Training-Accuracy:0.397, Test-Error:7.983 -> Test-Accuracy:4.1045\n",
            " Epoch:18 Training-Error:0.840-> Training-Accuracy:0.411, Test-Error:8.981 -> Test-Accuracy:4.6754\n",
            " Epoch:19 Training-Error:0.832-> Training-Accuracy:0.429, Test-Error:9.979 -> Test-Accuracy:5.258\n",
            " Epoch:20 Training-Error:0.833-> Training-Accuracy:0.432, Test-Error:0.997 -> Test-Accuracy:0.5934\n",
            " Epoch:21 Training-Error:0.813-> Training-Accuracy:0.449, Test-Error:1.995 -> Test-Accuracy:1.1932\n",
            " Epoch:22 Training-Error:0.817-> Training-Accuracy:0.429, Test-Error:2.992 -> Test-Accuracy:1.7989\n",
            " Epoch:23 Training-Error:0.798-> Training-Accuracy:0.474, Test-Error:3.990 -> Test-Accuracy:2.4128\n",
            " Epoch:24 Training-Error:0.795-> Training-Accuracy:0.501, Test-Error:4.988 -> Test-Accuracy:3.0347\n",
            " Epoch:25 Training-Error:0.771-> Training-Accuracy:0.488, Test-Error:5.985 -> Test-Accuracy:3.6631\n",
            " Epoch:26 Training-Error:0.774-> Training-Accuracy:0.475, Test-Error:6.983 -> Test-Accuracy:4.2976\n",
            " Epoch:27 Training-Error:0.772-> Training-Accuracy:0.498, Test-Error:7.980 -> Test-Accuracy:4.9362\n",
            " Epoch:28 Training-Error:0.754-> Training-Accuracy:0.534, Test-Error:8.978 -> Test-Accuracy:5.5807\n",
            " Epoch:29 Training-Error:0.756-> Training-Accuracy:0.501, Test-Error:9.975 -> Test-Accuracy:6.2296\n",
            " Epoch:30 Training-Error:0.736-> Training-Accuracy:0.527, Test-Error:0.997 -> Test-Accuracy:0.6537\n",
            " Epoch:31 Training-Error:0.740-> Training-Accuracy:0.517, Test-Error:1.994 -> Test-Accuracy:1.3086\n",
            " Epoch:32 Training-Error:0.732-> Training-Accuracy:0.546, Test-Error:2.992 -> Test-Accuracy:1.9663\n",
            " Epoch:33 Training-Error:0.725-> Training-Accuracy:0.528, Test-Error:3.989 -> Test-Accuracy:2.6315\n",
            " Epoch:34 Training-Error:0.717-> Training-Accuracy:0.538, Test-Error:4.986 -> Test-Accuracy:3.2998\n",
            " Epoch:35 Training-Error:0.717-> Training-Accuracy:0.553, Test-Error:5.984 -> Test-Accuracy:3.97\n",
            " Epoch:36 Training-Error:0.698-> Training-Accuracy:0.547, Test-Error:6.981 -> Test-Accuracy:4.6429\n",
            " Epoch:37 Training-Error:0.702-> Training-Accuracy:0.571, Test-Error:7.978 -> Test-Accuracy:5.3184\n",
            " Epoch:38 Training-Error:0.706-> Training-Accuracy:0.55, Test-Error:8.976 -> Test-Accuracy:5.9966\n",
            " Epoch:39 Training-Error:0.692-> Training-Accuracy:0.574, Test-Error:9.973 -> Test-Accuracy:6.6766\n",
            " Epoch:40 Training-Error:0.689-> Training-Accuracy:0.575, Test-Error:0.997 -> Test-Accuracy:0.6814\n",
            " Epoch:41 Training-Error:0.682-> Training-Accuracy:0.581, Test-Error:1.994 -> Test-Accuracy:1.3666\n",
            " Epoch:42 Training-Error:0.688-> Training-Accuracy:0.584, Test-Error:2.991 -> Test-Accuracy:2.0536\n",
            " Epoch:43 Training-Error:0.674-> Training-Accuracy:0.595, Test-Error:3.988 -> Test-Accuracy:2.7429\n",
            " Epoch:44 Training-Error:0.676-> Training-Accuracy:0.586, Test-Error:4.986 -> Test-Accuracy:3.4344\n",
            " Epoch:45 Training-Error:0.661-> Training-Accuracy:0.593, Test-Error:5.983 -> Test-Accuracy:4.124\n",
            " Epoch:46 Training-Error:0.663-> Training-Accuracy:0.6, Test-Error:6.980 -> Test-Accuracy:4.8182\n",
            " Epoch:47 Training-Error:0.658-> Training-Accuracy:0.595, Test-Error:7.977 -> Test-Accuracy:5.5157\n",
            " Epoch:48 Training-Error:0.657-> Training-Accuracy:0.601, Test-Error:8.974 -> Test-Accuracy:6.2141\n",
            " Epoch:49 Training-Error:0.654-> Training-Accuracy:0.604, Test-Error:9.972 -> Test-Accuracy:6.9133\n",
            " Epoch:50 Training-Error:0.649-> Training-Accuracy:0.608, Test-Error:0.997 -> Test-Accuracy:0.7003\n",
            " Epoch:51 Training-Error:0.641-> Training-Accuracy:0.634, Test-Error:1.994 -> Test-Accuracy:1.4053\n",
            " Epoch:52 Training-Error:0.652-> Training-Accuracy:0.603, Test-Error:2.991 -> Test-Accuracy:2.1107\n",
            " Epoch:53 Training-Error:0.647-> Training-Accuracy:0.585, Test-Error:3.988 -> Test-Accuracy:2.8171\n",
            " Epoch:54 Training-Error:0.646-> Training-Accuracy:0.61, Test-Error:4.985 -> Test-Accuracy:3.5248\n",
            " Epoch:55 Training-Error:0.635-> Training-Accuracy:0.629, Test-Error:5.982 -> Test-Accuracy:4.2356\n",
            " Epoch:56 Training-Error:0.640-> Training-Accuracy:0.6, Test-Error:6.979 -> Test-Accuracy:4.9473\n",
            " Epoch:57 Training-Error:0.637-> Training-Accuracy:0.613, Test-Error:7.976 -> Test-Accuracy:5.6583\n",
            " Epoch:58 Training-Error:0.628-> Training-Accuracy:0.63, Test-Error:8.973 -> Test-Accuracy:6.3699\n",
            " Epoch:59 Training-Error:0.628-> Training-Accuracy:0.624, Test-Error:9.970 -> Test-Accuracy:7.0843\n",
            " Epoch:60 Training-Error:0.624-> Training-Accuracy:0.642, Test-Error:0.997 -> Test-Accuracy:0.7166\n",
            " Epoch:61 Training-Error:0.626-> Training-Accuracy:0.633, Test-Error:1.994 -> Test-Accuracy:1.4343\n",
            " Epoch:62 Training-Error:0.621-> Training-Accuracy:0.635, Test-Error:2.991 -> Test-Accuracy:2.1518\n",
            " Epoch:63 Training-Error:0.628-> Training-Accuracy:0.619, Test-Error:3.988 -> Test-Accuracy:2.8699\n",
            " Epoch:64 Training-Error:0.622-> Training-Accuracy:0.637, Test-Error:4.985 -> Test-Accuracy:3.5899\n",
            " Epoch:65 Training-Error:0.616-> Training-Accuracy:0.63, Test-Error:5.982 -> Test-Accuracy:4.3107\n",
            " Epoch:66 Training-Error:0.618-> Training-Accuracy:0.628, Test-Error:6.979 -> Test-Accuracy:5.0336\n",
            " Epoch:67 Training-Error:0.608-> Training-Accuracy:0.642, Test-Error:7.976 -> Test-Accuracy:5.7552\n",
            " Epoch:68 Training-Error:0.608-> Training-Accuracy:0.633, Test-Error:8.973 -> Test-Accuracy:6.4788\n",
            " Epoch:69 Training-Error:0.598-> Training-Accuracy:0.647, Test-Error:9.970 -> Test-Accuracy:7.2039\n",
            " Epoch:70 Training-Error:0.601-> Training-Accuracy:0.646, Test-Error:0.996 -> Test-Accuracy:0.7252\n",
            " Epoch:71 Training-Error:0.608-> Training-Accuracy:0.644, Test-Error:1.993 -> Test-Accuracy:1.4518\n",
            " Epoch:72 Training-Error:0.597-> Training-Accuracy:0.652, Test-Error:2.990 -> Test-Accuracy:2.1776\n",
            " Epoch:73 Training-Error:0.598-> Training-Accuracy:0.661, Test-Error:3.987 -> Test-Accuracy:2.9053\n",
            " Epoch:74 Training-Error:0.593-> Training-Accuracy:0.662, Test-Error:4.984 -> Test-Accuracy:3.6344\n",
            " Epoch:75 Training-Error:0.598-> Training-Accuracy:0.632, Test-Error:5.981 -> Test-Accuracy:4.3641\n",
            " Epoch:76 Training-Error:0.593-> Training-Accuracy:0.666, Test-Error:6.978 -> Test-Accuracy:5.0956\n",
            " Epoch:77 Training-Error:0.587-> Training-Accuracy:0.669, Test-Error:7.975 -> Test-Accuracy:5.83\n",
            " Epoch:78 Training-Error:0.592-> Training-Accuracy:0.655, Test-Error:8.972 -> Test-Accuracy:6.5637\n",
            " Epoch:79 Training-Error:0.584-> Training-Accuracy:0.662, Test-Error:9.969 -> Test-Accuracy:7.298\n",
            " Epoch:80 Training-Error:0.576-> Training-Accuracy:0.673, Test-Error:0.996 -> Test-Accuracy:0.7346\n",
            " Epoch:81 Training-Error:0.590-> Training-Accuracy:0.666, Test-Error:1.993 -> Test-Accuracy:1.4704\n",
            " Epoch:82 Training-Error:0.583-> Training-Accuracy:0.666, Test-Error:2.990 -> Test-Accuracy:2.2066\n",
            " Epoch:83 Training-Error:0.589-> Training-Accuracy:0.644, Test-Error:3.987 -> Test-Accuracy:2.9431\n",
            " Epoch:84 Training-Error:0.578-> Training-Accuracy:0.667, Test-Error:4.984 -> Test-Accuracy:3.6803\n",
            " Epoch:85 Training-Error:0.577-> Training-Accuracy:0.671, Test-Error:5.981 -> Test-Accuracy:4.4171\n",
            " Epoch:86 Training-Error:0.580-> Training-Accuracy:0.653, Test-Error:6.978 -> Test-Accuracy:5.1543\n",
            " Epoch:87 Training-Error:0.585-> Training-Accuracy:0.653, Test-Error:7.975 -> Test-Accuracy:5.8927\n",
            " Epoch:88 Training-Error:0.578-> Training-Accuracy:0.669, Test-Error:8.971 -> Test-Accuracy:6.6315\n",
            " Epoch:89 Training-Error:0.569-> Training-Accuracy:0.672, Test-Error:9.968 -> Test-Accuracy:7.3704\n",
            " Epoch:90 Training-Error:0.569-> Training-Accuracy:0.675, Test-Error:0.996 -> Test-Accuracy:0.7391\n",
            " Epoch:91 Training-Error:0.570-> Training-Accuracy:0.682, Test-Error:1.993 -> Test-Accuracy:1.478\n",
            " Epoch:92 Training-Error:0.557-> Training-Accuracy:0.685, Test-Error:2.990 -> Test-Accuracy:2.2195\n",
            " Epoch:93 Training-Error:0.557-> Training-Accuracy:0.69, Test-Error:3.987 -> Test-Accuracy:2.96\n",
            " Epoch:94 Training-Error:0.557-> Training-Accuracy:0.704, Test-Error:4.984 -> Test-Accuracy:3.7007\n",
            " Epoch:95 Training-Error:0.559-> Training-Accuracy:0.681, Test-Error:5.981 -> Test-Accuracy:4.443\n",
            " Epoch:96 Training-Error:0.556-> Training-Accuracy:0.676, Test-Error:6.977 -> Test-Accuracy:5.1846\n",
            " Epoch:97 Training-Error:0.559-> Training-Accuracy:0.687, Test-Error:7.974 -> Test-Accuracy:5.9269\n",
            " Epoch:98 Training-Error:0.565-> Training-Accuracy:0.675, Test-Error:8.971 -> Test-Accuracy:6.6693\n",
            " Epoch:99 Training-Error:0.559-> Training-Accuracy:0.691, Test-Error:0.996 -> Test-Accuracy:0.7432\n"
          ],
          "name": "stdout"
        }
      ]
    },
    {
      "cell_type": "markdown",
      "metadata": {
        "id": "vwQWCd98_MT5"
      },
      "source": [
        "#Data Augmentation"
      ]
    },
    {
      "cell_type": "code",
      "metadata": {
        "id": "vaaGnSEF9VVi"
      },
      "source": [
        "from keras.preprocessing.image import ImageDataGenerator\n",
        "def data_augmentation(images, labels, batch_size):\n",
        "  datagen = ImageDataGenerator(\n",
        "          featurewise_center=False,  # set input mean to 0 over the dataset\n",
        "          samplewise_center=False,  # set each sample mean to 0\n",
        "          featurewise_std_normalization=False,  # divide inputs by std of the dataset\n",
        "          samplewise_std_normalization=False,  # divide each input by its std\n",
        "          zca_whitening=False,  # apply ZCA whitening\n",
        "          rotation_range=10,  # randomly rotate images in the range (degrees, 0 to 180)\n",
        "          zoom_range = 0.1, # Randomly zoom image \n",
        "          width_shift_range=0.1,  # randomly shift images horizontally (fraction of total width)\n",
        "          height_shift_range=0.1,  # randomly shift images vertically (fraction of total height)\n",
        "          horizontal_flip=False,  # randomly flip images\n",
        "          vertical_flip=False)  # randomly flip images"
      ],
      "execution_count": 138,
      "outputs": []
    },
    {
      "cell_type": "code",
      "metadata": {
        "colab": {
          "base_uri": "https://localhost:8080/",
          "height": 271
        },
        "id": "01O5H3uLKECt",
        "outputId": "c9de70b2-623e-4f56-a15d-d767115d4300"
      },
      "source": [
        "datagen = ImageDataGenerator(rotation_range=90)\n",
        "\n",
        "datagen.fit(X_train)\n",
        "\n",
        "for X_batch, y_batch in datagen.flow(X_train, y_train, batch_size=9):\n",
        "  \n",
        "  for i in range(0,9):\n",
        "    plt.subplot(330 + 1 +i)\n",
        "    plt.imshow(X_batch[i].reshape(28,28), cmap=plt.get_cmap('gray'))\n",
        "\n",
        "  plt.show()"
      ],
      "execution_count": 125,
      "outputs": [
        {
          "output_type": "display_data",
          "data": {
            "image/png": "[encoded data removed]",
            "text/plain": [
              "<Figure size 432x288 with 9 Axes>"
            ]
          },
          "metadata": {
            "tags": []
          }
        }
      ]
    },
    {
      "cell_type": "code",
      "metadata": {
        "id": "SntcO13kLsf3"
      },
      "source": [
        "print(f\"Classification report for classifier {clf}:\\n\"\n",
        "      f\"{metrics.classification_report(y_test, predicted)}\\n\")"
      ],
      "execution_count": null,
      "outputs": []
    },
    {
      "cell_type": "code",
      "metadata": {
        "id": "InqzKzLCKndA"
      },
      "source": [
        "import sklearn.metrics as metrics\n",
        "from sklearn.metrics import classification_report\n",
        "disp = metrics.plot_confusion_matrix(clf, X_test, y_test)\n",
        "disp.figure_.suptitle(\"Confusion Matrix\")\n",
        "print(f\"Confusion matrix:\\n{disp.confusion_matrix}\")\n",
        "\n",
        "plt.show()"
      ],
      "execution_count": null,
      "outputs": []
    },
    {
      "cell_type": "markdown",
      "metadata": {
        "id": "c4H4iPyW7dWd"
      },
      "source": [
        ""
      ]
    }
  ]
}