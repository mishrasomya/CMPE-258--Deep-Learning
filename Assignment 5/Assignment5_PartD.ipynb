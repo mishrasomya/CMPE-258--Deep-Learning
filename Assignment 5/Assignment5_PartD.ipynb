{
  "nbformat": 4,
  "nbformat_minor": 0,
  "metadata": {
    "colab": {
      "name": "Part_D.ipynb",
      "provenance": [],
      "collapsed_sections": []
    },
    "kernelspec": {
      "name": "python3",
      "display_name": "Python 3"
    },
    "language_info": {
      "name": "python"
    }
  },
  "cells": [
    {
      "cell_type": "markdown",
      "metadata": {
        "id": "_wUoy2ycvfkt"
      },
      "source": [
        "#CMPE 258 Assignemnt 5 - Part D"
      ]
    },
    {
      "cell_type": "markdown",
      "metadata": {
        "id": "ufIiZz2wvyjm"
      },
      "source": [
        "#Importing Data and Libraries"
      ]
    },
    {
      "cell_type": "code",
      "metadata": {
        "id": "01iPOCzAvxV8"
      },
      "source": [
        "import numpy as np\n",
        "import pandas as pd\n",
        "\n",
        "import matplotlib.pyplot as plt\n",
        "import seaborn as sns\n",
        "% matplotlib inline\n",
        "\n",
        "plt.style.use('seaborn-whitegrid')\n",
        "\n",
        "import warnings\n",
        "warnings.filterwarnings('ignore')"
      ],
      "execution_count": 2,
      "outputs": []
    },
    {
      "cell_type": "code",
      "metadata": {
        "colab": {
          "base_uri": "https://localhost:8080/"
        },
        "id": "DmldvjbHv8QD",
        "outputId": "e56f9436-26c2-4a16-9267-53c56465ec04"
      },
      "source": [
        "from google.colab import drive\n",
        "drive.mount('/content/drive')\n",
        "\n",
        "DATA_DIR = '/content/drive/MyDrive/SEMESTER 2/CMPE 258/HW5/'\n",
        "\n",
        "train = pd.read_csv(DATA_DIR + 'train.csv', nrows = 5_000_000)\n",
        "test = pd.read_csv(DATA_DIR + 'test.csv')"
      ],
      "execution_count": 4,
      "outputs": [
        {
          "output_type": "stream",
          "text": [
            "Drive already mounted at /content/drive; to attempt to forcibly remount, call drive.mount(\"/content/drive\", force_remount=True).\n"
          ],
          "name": "stdout"
        }
      ]
    },
    {
      "cell_type": "code",
      "metadata": {
        "colab": {
          "base_uri": "https://localhost:8080/",
          "height": 214
        },
        "id": "sPOfj0xBwHYb",
        "outputId": "11ebc714-0ee4-4d5d-dbc7-e519263e4eba"
      },
      "source": [
        "print(\"Shape of train data\", train.shape)\n",
        "train.head()"
      ],
      "execution_count": 5,
      "outputs": [
        {
          "output_type": "stream",
          "text": [
            "Shape of train data (5000000, 8)\n"
          ],
          "name": "stdout"
        },
        {
          "output_type": "execute_result",
          "data": {
            "text/html": [
              "<div>\n",
              "<style scoped>\n",
              "    .dataframe tbody tr th:only-of-type {\n",
              "        vertical-align: middle;\n",
              "    }\n",
              "\n",
              "    .dataframe tbody tr th {\n",
              "        vertical-align: top;\n",
              "    }\n",
              "\n",
              "    .dataframe thead th {\n",
              "        text-align: right;\n",
              "    }\n",
              "</style>\n",
              "<table border=\"1\" class=\"dataframe\">\n",
              "  <thead>\n",
              "    <tr style=\"text-align: right;\">\n",
              "      <th></th>\n",
              "      <th>key</th>\n",
              "      <th>fare_amount</th>\n",
              "      <th>pickup_datetime</th>\n",
              "      <th>pickup_longitude</th>\n",
              "      <th>pickup_latitude</th>\n",
              "      <th>dropoff_longitude</th>\n",
              "      <th>dropoff_latitude</th>\n",
              "      <th>passenger_count</th>\n",
              "    </tr>\n",
              "  </thead>\n",
              "  <tbody>\n",
              "    <tr>\n",
              "      <th>0</th>\n",
              "      <td>2009-06-15 17:26:21.0000001</td>\n",
              "      <td>4.5</td>\n",
              "      <td>2009-06-15 17:26:21 UTC</td>\n",
              "      <td>-73.844311</td>\n",
              "      <td>40.721319</td>\n",
              "      <td>-73.841610</td>\n",
              "      <td>40.712278</td>\n",
              "      <td>1</td>\n",
              "    </tr>\n",
              "    <tr>\n",
              "      <th>1</th>\n",
              "      <td>2010-01-05 16:52:16.0000002</td>\n",
              "      <td>16.9</td>\n",
              "      <td>2010-01-05 16:52:16 UTC</td>\n",
              "      <td>-74.016048</td>\n",
              "      <td>40.711303</td>\n",
              "      <td>-73.979268</td>\n",
              "      <td>40.782004</td>\n",
              "      <td>1</td>\n",
              "    </tr>\n",
              "    <tr>\n",
              "      <th>2</th>\n",
              "      <td>2011-08-18 00:35:00.00000049</td>\n",
              "      <td>5.7</td>\n",
              "      <td>2011-08-18 00:35:00 UTC</td>\n",
              "      <td>-73.982738</td>\n",
              "      <td>40.761270</td>\n",
              "      <td>-73.991242</td>\n",
              "      <td>40.750562</td>\n",
              "      <td>2</td>\n",
              "    </tr>\n",
              "    <tr>\n",
              "      <th>3</th>\n",
              "      <td>2012-04-21 04:30:42.0000001</td>\n",
              "      <td>7.7</td>\n",
              "      <td>2012-04-21 04:30:42 UTC</td>\n",
              "      <td>-73.987130</td>\n",
              "      <td>40.733143</td>\n",
              "      <td>-73.991567</td>\n",
              "      <td>40.758092</td>\n",
              "      <td>1</td>\n",
              "    </tr>\n",
              "    <tr>\n",
              "      <th>4</th>\n",
              "      <td>2010-03-09 07:51:00.000000135</td>\n",
              "      <td>5.3</td>\n",
              "      <td>2010-03-09 07:51:00 UTC</td>\n",
              "      <td>-73.968095</td>\n",
              "      <td>40.768008</td>\n",
              "      <td>-73.956655</td>\n",
              "      <td>40.783762</td>\n",
              "      <td>1</td>\n",
              "    </tr>\n",
              "  </tbody>\n",
              "</table>\n",
              "</div>"
            ],
            "text/plain": [
              "                             key  ...  passenger_count\n",
              "0    2009-06-15 17:26:21.0000001  ...                1\n",
              "1    2010-01-05 16:52:16.0000002  ...                1\n",
              "2   2011-08-18 00:35:00.00000049  ...                2\n",
              "3    2012-04-21 04:30:42.0000001  ...                1\n",
              "4  2010-03-09 07:51:00.000000135  ...                1\n",
              "\n",
              "[5 rows x 8 columns]"
            ]
          },
          "metadata": {
            "tags": []
          },
          "execution_count": 5
        }
      ]
    },
    {
      "cell_type": "code",
      "metadata": {
        "colab": {
          "base_uri": "https://localhost:8080/"
        },
        "id": "zWXrKn3UwMlL",
        "outputId": "4a32e99a-ba97-4311-b653-0420774ab358"
      },
      "source": [
        "train.dtypes"
      ],
      "execution_count": 6,
      "outputs": [
        {
          "output_type": "execute_result",
          "data": {
            "text/plain": [
              "key                   object\n",
              "fare_amount          float64\n",
              "pickup_datetime       object\n",
              "pickup_longitude     float64\n",
              "pickup_latitude      float64\n",
              "dropoff_longitude    float64\n",
              "dropoff_latitude     float64\n",
              "passenger_count        int64\n",
              "dtype: object"
            ]
          },
          "metadata": {
            "tags": []
          },
          "execution_count": 6
        }
      ]
    },
    {
      "cell_type": "code",
      "metadata": {
        "colab": {
          "base_uri": "https://localhost:8080/"
        },
        "id": "ByqfsUQIwPbk",
        "outputId": "3858ea65-971e-47ef-fad0-709ec8dafbe2"
      },
      "source": [
        "print(\"old size: %d\" % len(train))\n",
        "train = train[train.fare_amount >=0]\n",
        "print(\"New size: %d\" % len(train))"
      ],
      "execution_count": 7,
      "outputs": [
        {
          "output_type": "stream",
          "text": [
            "old size: 5000000\n",
            "New size: 4999789\n"
          ],
          "name": "stdout"
        }
      ]
    },
    {
      "cell_type": "code",
      "metadata": {
        "colab": {
          "base_uri": "https://localhost:8080/"
        },
        "id": "0JcMkb5XwXXE",
        "outputId": "303cd7ea-3c68-44cf-e5ae-c8844725b99f"
      },
      "source": [
        "train.isnull().sum()"
      ],
      "execution_count": 8,
      "outputs": [
        {
          "output_type": "execute_result",
          "data": {
            "text/plain": [
              "key                   0\n",
              "fare_amount           0\n",
              "pickup_datetime       0\n",
              "pickup_longitude      0\n",
              "pickup_latitude       0\n",
              "dropoff_longitude    36\n",
              "dropoff_latitude     36\n",
              "passenger_count       0\n",
              "dtype: int64"
            ]
          },
          "metadata": {
            "tags": []
          },
          "execution_count": 8
        }
      ]
    },
    {
      "cell_type": "code",
      "metadata": {
        "colab": {
          "base_uri": "https://localhost:8080/"
        },
        "id": "YpcleFBgwauB",
        "outputId": "68d6842e-f38a-4a14-a36e-88aec4b29f84"
      },
      "source": [
        "print(\"old size: %d\" % len(train))\n",
        "train = train.dropna(how='any', axis=0)\n",
        "print(\"New size after dropping missing value: %d\" % len(train))"
      ],
      "execution_count": 9,
      "outputs": [
        {
          "output_type": "stream",
          "text": [
            "old size: 4999789\n",
            "New size after dropping missing value: 4999753\n"
          ],
          "name": "stdout"
        }
      ]
    },
    {
      "cell_type": "code",
      "metadata": {
        "colab": {
          "base_uri": "https://localhost:8080/",
          "height": 521
        },
        "id": "QA_jYTVfwcqo",
        "outputId": "9c14b506-aa31-4083-f8f1-88e880de1a10"
      },
      "source": [
        "train.fare_amount.hist(bins=100, figsize = (16,8))\n",
        "plt.xlabel(\"Fare Amount\")\n",
        "plt.ylabel(\"Frequency\")"
      ],
      "execution_count": 10,
      "outputs": [
        {
          "output_type": "execute_result",
          "data": {
            "text/plain": [
              "Text(0, 0.5, 'Frequency')"
            ]
          },
          "metadata": {
            "tags": []
          },
          "execution_count": 10
        },
        {
          "output_type": "display_data",
          "data": {
            "image/png": "[encoded data removed]",
            "text/plain": [
              "<Figure size 1152x576 with 1 Axes>"
            ]
          },
          "metadata": {
            "tags": []
          }
        }
      ]
    },
    {
      "cell_type": "code",
      "metadata": {
        "colab": {
          "base_uri": "https://localhost:8080/",
          "height": 510
        },
        "id": "8ScyZI9bwn4g",
        "outputId": "64efbb03-d824-47b9-f9b5-c530c757baad"
      },
      "source": [
        "# Lets see the distribution of fare amount less than 100\n",
        "train[train.fare_amount <100 ].fare_amount.hist(bins=100, figsize = (16,8))\n",
        "plt.xlabel(\"Fare Amount\")\n",
        "plt.ylabel(\"Frequency\")"
      ],
      "execution_count": 11,
      "outputs": [
        {
          "output_type": "execute_result",
          "data": {
            "text/plain": [
              "Text(0, 0.5, 'Frequency')"
            ]
          },
          "metadata": {
            "tags": []
          },
          "execution_count": 11
        },
        {
          "output_type": "display_data",
          "data": {
            "image/png": "[encoded data removed]",
            "text/plain": [
              "<Figure size 1152x576 with 1 Axes>"
            ]
          },
          "metadata": {
            "tags": []
          }
        }
      ]
    },
    {
      "cell_type": "code",
      "metadata": {
        "colab": {
          "base_uri": "https://localhost:8080/"
        },
        "id": "-MevpFamwvzf",
        "outputId": "1b665b62-020c-4458-f24b-c1c78633b2bc"
      },
      "source": [
        "train[train.fare_amount >100 ].shape"
      ],
      "execution_count": 12,
      "outputs": [
        {
          "output_type": "execute_result",
          "data": {
            "text/plain": [
              "(1977, 8)"
            ]
          },
          "metadata": {
            "tags": []
          },
          "execution_count": 12
        }
      ]
    },
    {
      "cell_type": "code",
      "metadata": {
        "colab": {
          "base_uri": "https://localhost:8080/",
          "height": 510
        },
        "id": "YbIFxxz6wxYI",
        "outputId": "3ee93e84-2f1b-43b3-ed84-756113081487"
      },
      "source": [
        "train[train.fare_amount >100 ].fare_amount.hist(bins=100, figsize = (16,8))\n",
        "plt.xlabel(\"Fare Amount\")\n",
        "plt.ylabel(\"Frequency\")"
      ],
      "execution_count": 13,
      "outputs": [
        {
          "output_type": "execute_result",
          "data": {
            "text/plain": [
              "Text(0, 0.5, 'Frequency')"
            ]
          },
          "metadata": {
            "tags": []
          },
          "execution_count": 13
        },
        {
          "output_type": "display_data",
          "data": {
            "image/png": "[encoded data removed]",
            "text/plain": [
              "<Figure size 1152x576 with 1 Axes>"
            ]
          },
          "metadata": {
            "tags": []
          }
        }
      ]
    },
    {
      "cell_type": "code",
      "metadata": {
        "colab": {
          "base_uri": "https://localhost:8080/",
          "height": 510
        },
        "id": "3-57a-l6wytg",
        "outputId": "2d5ce5fc-5dd6-4276-a099-532603311870"
      },
      "source": [
        "train[train.passenger_count >7].passenger_count.hist(bins=10, figsize = (16,8))\n",
        "plt.xlabel(\"Passanger Count\")\n",
        "plt.ylabel(\"Frequency\")"
      ],
      "execution_count": 14,
      "outputs": [
        {
          "output_type": "execute_result",
          "data": {
            "text/plain": [
              "Text(0, 0.5, 'Frequency')"
            ]
          },
          "metadata": {
            "tags": []
          },
          "execution_count": 14
        },
        {
          "output_type": "display_data",
          "data": {
            "image/png": "[encoded data removed]",
            "text/plain": [
              "<Figure size 1152x576 with 1 Axes>"
            ]
          },
          "metadata": {
            "tags": []
          }
        }
      ]
    },
    {
      "cell_type": "code",
      "metadata": {
        "colab": {
          "base_uri": "https://localhost:8080/",
          "height": 377
        },
        "id": "xu8Qin5Pw0Y3",
        "outputId": "732a43be-38d1-4a11-94cb-fdb26ed7663e"
      },
      "source": [
        "train[train.passenger_count >7]"
      ],
      "execution_count": 15,
      "outputs": [
        {
          "output_type": "execute_result",
          "data": {
            "text/html": [
              "<div>\n",
              "<style scoped>\n",
              "    .dataframe tbody tr th:only-of-type {\n",
              "        vertical-align: middle;\n",
              "    }\n",
              "\n",
              "    .dataframe tbody tr th {\n",
              "        vertical-align: top;\n",
              "    }\n",
              "\n",
              "    .dataframe thead th {\n",
              "        text-align: right;\n",
              "    }\n",
              "</style>\n",
              "<table border=\"1\" class=\"dataframe\">\n",
              "  <thead>\n",
              "    <tr style=\"text-align: right;\">\n",
              "      <th></th>\n",
              "      <th>key</th>\n",
              "      <th>fare_amount</th>\n",
              "      <th>pickup_datetime</th>\n",
              "      <th>pickup_longitude</th>\n",
              "      <th>pickup_latitude</th>\n",
              "      <th>dropoff_longitude</th>\n",
              "      <th>dropoff_latitude</th>\n",
              "      <th>passenger_count</th>\n",
              "    </tr>\n",
              "  </thead>\n",
              "  <tbody>\n",
              "    <tr>\n",
              "      <th>929022</th>\n",
              "      <td>2009-07-30 11:54:00.000000193</td>\n",
              "      <td>3.30</td>\n",
              "      <td>2009-07-30 11:54:00 UTC</td>\n",
              "      <td>0.000000</td>\n",
              "      <td>0.000000</td>\n",
              "      <td>0.000000</td>\n",
              "      <td>0.000000</td>\n",
              "      <td>208</td>\n",
              "    </tr>\n",
              "    <tr>\n",
              "      <th>1007609</th>\n",
              "      <td>2014-06-24 15:13:00.00000040</td>\n",
              "      <td>104.00</td>\n",
              "      <td>2014-06-24 15:13:00 UTC</td>\n",
              "      <td>-74.015780</td>\n",
              "      <td>40.715420</td>\n",
              "      <td>-74.170280</td>\n",
              "      <td>40.708340</td>\n",
              "      <td>9</td>\n",
              "    </tr>\n",
              "    <tr>\n",
              "      <th>2154045</th>\n",
              "      <td>2010-12-16 11:21:00.000000209</td>\n",
              "      <td>3.30</td>\n",
              "      <td>2010-12-16 11:21:00 UTC</td>\n",
              "      <td>0.000000</td>\n",
              "      <td>0.000000</td>\n",
              "      <td>0.000000</td>\n",
              "      <td>0.000000</td>\n",
              "      <td>208</td>\n",
              "    </tr>\n",
              "    <tr>\n",
              "      <th>2198549</th>\n",
              "      <td>2010-12-15 14:20:00.00000010</td>\n",
              "      <td>3.30</td>\n",
              "      <td>2010-12-15 14:20:00 UTC</td>\n",
              "      <td>0.000000</td>\n",
              "      <td>0.000000</td>\n",
              "      <td>0.000000</td>\n",
              "      <td>0.000000</td>\n",
              "      <td>208</td>\n",
              "    </tr>\n",
              "    <tr>\n",
              "      <th>2910347</th>\n",
              "      <td>2010-12-16 06:44:00.00000039</td>\n",
              "      <td>4.50</td>\n",
              "      <td>2010-12-16 06:44:00 UTC</td>\n",
              "      <td>0.000000</td>\n",
              "      <td>0.000000</td>\n",
              "      <td>0.000000</td>\n",
              "      <td>0.000000</td>\n",
              "      <td>208</td>\n",
              "    </tr>\n",
              "    <tr>\n",
              "      <th>3107489</th>\n",
              "      <td>2009-05-12 14:50:00.000000175</td>\n",
              "      <td>2.70</td>\n",
              "      <td>2009-05-12 14:50:00 UTC</td>\n",
              "      <td>-73.937818</td>\n",
              "      <td>40.758260</td>\n",
              "      <td>-73.937827</td>\n",
              "      <td>40.758250</td>\n",
              "      <td>208</td>\n",
              "    </tr>\n",
              "    <tr>\n",
              "      <th>3323791</th>\n",
              "      <td>2011-08-27 01:24:00.000000168</td>\n",
              "      <td>8.50</td>\n",
              "      <td>2011-08-27 01:24:00 UTC</td>\n",
              "      <td>-73.987858</td>\n",
              "      <td>40.760340</td>\n",
              "      <td>-74.000682</td>\n",
              "      <td>40.752413</td>\n",
              "      <td>129</td>\n",
              "    </tr>\n",
              "    <tr>\n",
              "      <th>4095440</th>\n",
              "      <td>2015-06-14 08:56:16.0000001</td>\n",
              "      <td>37.04</td>\n",
              "      <td>2015-06-14 08:56:16 UTC</td>\n",
              "      <td>-73.982094</td>\n",
              "      <td>40.756252</td>\n",
              "      <td>-73.872482</td>\n",
              "      <td>40.774506</td>\n",
              "      <td>9</td>\n",
              "    </tr>\n",
              "    <tr>\n",
              "      <th>4103745</th>\n",
              "      <td>2010-12-22 12:11:00.000000230</td>\n",
              "      <td>23.70</td>\n",
              "      <td>2010-12-22 12:11:00 UTC</td>\n",
              "      <td>0.000000</td>\n",
              "      <td>0.000000</td>\n",
              "      <td>0.000000</td>\n",
              "      <td>0.000000</td>\n",
              "      <td>208</td>\n",
              "    </tr>\n",
              "    <tr>\n",
              "      <th>4432483</th>\n",
              "      <td>2009-05-11 13:56:00.00000088</td>\n",
              "      <td>11.10</td>\n",
              "      <td>2009-05-11 13:56:00 UTC</td>\n",
              "      <td>-73.937733</td>\n",
              "      <td>40.758267</td>\n",
              "      <td>-73.937737</td>\n",
              "      <td>40.758273</td>\n",
              "      <td>208</td>\n",
              "    </tr>\n",
              "    <tr>\n",
              "      <th>4679603</th>\n",
              "      <td>2010-02-20 01:53:00.00000037</td>\n",
              "      <td>9.30</td>\n",
              "      <td>2010-02-20 01:53:00 UTC</td>\n",
              "      <td>0.554830</td>\n",
              "      <td>0.000000</td>\n",
              "      <td>-2069.478952</td>\n",
              "      <td>28.121107</td>\n",
              "      <td>51</td>\n",
              "    </tr>\n",
              "  </tbody>\n",
              "</table>\n",
              "</div>"
            ],
            "text/plain": [
              "                                   key  ...  passenger_count\n",
              "929022   2009-07-30 11:54:00.000000193  ...              208\n",
              "1007609   2014-06-24 15:13:00.00000040  ...                9\n",
              "2154045  2010-12-16 11:21:00.000000209  ...              208\n",
              "2198549   2010-12-15 14:20:00.00000010  ...              208\n",
              "2910347   2010-12-16 06:44:00.00000039  ...              208\n",
              "3107489  2009-05-12 14:50:00.000000175  ...              208\n",
              "3323791  2011-08-27 01:24:00.000000168  ...              129\n",
              "4095440    2015-06-14 08:56:16.0000001  ...                9\n",
              "4103745  2010-12-22 12:11:00.000000230  ...              208\n",
              "4432483   2009-05-11 13:56:00.00000088  ...              208\n",
              "4679603   2010-02-20 01:53:00.00000037  ...               51\n",
              "\n",
              "[11 rows x 8 columns]"
            ]
          },
          "metadata": {
            "tags": []
          },
          "execution_count": 15
        }
      ]
    },
    {
      "cell_type": "code",
      "metadata": {
        "colab": {
          "base_uri": "https://localhost:8080/",
          "height": 521
        },
        "id": "Xf4OkwOsw2hh",
        "outputId": "c238000b-5c99-446a-94a6-3c6d01dbfbf1"
      },
      "source": [
        "train[train.passenger_count <7].passenger_count.hist(bins=10, figsize = (16,8))\n",
        "plt.xlabel(\"Passanger Count\")\n",
        "plt.ylabel(\"Frequency\")"
      ],
      "execution_count": 16,
      "outputs": [
        {
          "output_type": "execute_result",
          "data": {
            "text/plain": [
              "Text(0, 0.5, 'Frequency')"
            ]
          },
          "metadata": {
            "tags": []
          },
          "execution_count": 16
        },
        {
          "output_type": "display_data",
          "data": {
            "image/png": "[encoded data removed]",
            "text/plain": [
              "<Figure size 1152x576 with 1 Axes>"
            ]
          },
          "metadata": {
            "tags": []
          }
        }
      ]
    },
    {
      "cell_type": "code",
      "metadata": {
        "colab": {
          "base_uri": "https://localhost:8080/"
        },
        "id": "GmEATliqw70v",
        "outputId": "5f30391e-65e5-4e8b-a6ee-fe87b1076d8d"
      },
      "source": [
        "train[train.passenger_count ==0].shape"
      ],
      "execution_count": 17,
      "outputs": [
        {
          "output_type": "execute_result",
          "data": {
            "text/plain": [
              "(17602, 8)"
            ]
          },
          "metadata": {
            "tags": []
          },
          "execution_count": 17
        }
      ]
    },
    {
      "cell_type": "code",
      "metadata": {
        "colab": {
          "base_uri": "https://localhost:8080/",
          "height": 510
        },
        "id": "0hXr0bxBw9qv",
        "outputId": "dd520ef1-bfd5-403b-965e-07303919c63c"
      },
      "source": [
        "plt.figure(figsize= (16,8))\n",
        "sns.boxplot(x = train[train.passenger_count< 7].passenger_count, y = train.fare_amount)"
      ],
      "execution_count": 18,
      "outputs": [
        {
          "output_type": "execute_result",
          "data": {
            "text/plain": [
              "<matplotlib.axes._subplots.AxesSubplot at 0x7ffaa99ba950>"
            ]
          },
          "metadata": {
            "tags": []
          },
          "execution_count": 18
        },
        {
          "output_type": "display_data",
          "data": {
            "image/png": "[encoded data removed]",
            "text/plain": [
              "<Figure size 1152x576 with 1 Axes>"
            ]
          },
          "metadata": {
            "tags": []
          }
        }
      ]
    },
    {
      "cell_type": "code",
      "metadata": {
        "colab": {
          "base_uri": "https://localhost:8080/",
          "height": 107
        },
        "id": "Q-kziYBxw_EP",
        "outputId": "252198bf-aa38-469e-c3f6-0fa87d711bcf"
      },
      "source": [
        "train[train.passenger_count <7][['fare_amount','passenger_count']].corr()"
      ],
      "execution_count": 19,
      "outputs": [
        {
          "output_type": "execute_result",
          "data": {
            "text/html": [
              "<div>\n",
              "<style scoped>\n",
              "    .dataframe tbody tr th:only-of-type {\n",
              "        vertical-align: middle;\n",
              "    }\n",
              "\n",
              "    .dataframe tbody tr th {\n",
              "        vertical-align: top;\n",
              "    }\n",
              "\n",
              "    .dataframe thead th {\n",
              "        text-align: right;\n",
              "    }\n",
              "</style>\n",
              "<table border=\"1\" class=\"dataframe\">\n",
              "  <thead>\n",
              "    <tr style=\"text-align: right;\">\n",
              "      <th></th>\n",
              "      <th>fare_amount</th>\n",
              "      <th>passenger_count</th>\n",
              "    </tr>\n",
              "  </thead>\n",
              "  <tbody>\n",
              "    <tr>\n",
              "      <th>fare_amount</th>\n",
              "      <td>1.00000</td>\n",
              "      <td>0.01322</td>\n",
              "    </tr>\n",
              "    <tr>\n",
              "      <th>passenger_count</th>\n",
              "      <td>0.01322</td>\n",
              "      <td>1.00000</td>\n",
              "    </tr>\n",
              "  </tbody>\n",
              "</table>\n",
              "</div>"
            ],
            "text/plain": [
              "                 fare_amount  passenger_count\n",
              "fare_amount          1.00000          0.01322\n",
              "passenger_count      0.01322          1.00000"
            ]
          },
          "metadata": {
            "tags": []
          },
          "execution_count": 19
        }
      ]
    },
    {
      "cell_type": "code",
      "metadata": {
        "colab": {
          "base_uri": "https://localhost:8080/",
          "height": 214
        },
        "id": "7gulrzJhxAyH",
        "outputId": "4e3918a1-267a-443a-b156-9fc166dd3a67"
      },
      "source": [
        "print(\"Shape of test data\", test.shape)\n",
        "test.head()"
      ],
      "execution_count": 20,
      "outputs": [
        {
          "output_type": "stream",
          "text": [
            "Shape of test data (9914, 7)\n"
          ],
          "name": "stdout"
        },
        {
          "output_type": "execute_result",
          "data": {
            "text/html": [
              "<div>\n",
              "<style scoped>\n",
              "    .dataframe tbody tr th:only-of-type {\n",
              "        vertical-align: middle;\n",
              "    }\n",
              "\n",
              "    .dataframe tbody tr th {\n",
              "        vertical-align: top;\n",
              "    }\n",
              "\n",
              "    .dataframe thead th {\n",
              "        text-align: right;\n",
              "    }\n",
              "</style>\n",
              "<table border=\"1\" class=\"dataframe\">\n",
              "  <thead>\n",
              "    <tr style=\"text-align: right;\">\n",
              "      <th></th>\n",
              "      <th>key</th>\n",
              "      <th>pickup_datetime</th>\n",
              "      <th>pickup_longitude</th>\n",
              "      <th>pickup_latitude</th>\n",
              "      <th>dropoff_longitude</th>\n",
              "      <th>dropoff_latitude</th>\n",
              "      <th>passenger_count</th>\n",
              "    </tr>\n",
              "  </thead>\n",
              "  <tbody>\n",
              "    <tr>\n",
              "      <th>0</th>\n",
              "      <td>2015-01-27 13:08:24.0000002</td>\n",
              "      <td>2015-01-27 13:08:24 UTC</td>\n",
              "      <td>-73.973320</td>\n",
              "      <td>40.763805</td>\n",
              "      <td>-73.981430</td>\n",
              "      <td>40.743835</td>\n",
              "      <td>1</td>\n",
              "    </tr>\n",
              "    <tr>\n",
              "      <th>1</th>\n",
              "      <td>2015-01-27 13:08:24.0000003</td>\n",
              "      <td>2015-01-27 13:08:24 UTC</td>\n",
              "      <td>-73.986862</td>\n",
              "      <td>40.719383</td>\n",
              "      <td>-73.998886</td>\n",
              "      <td>40.739201</td>\n",
              "      <td>1</td>\n",
              "    </tr>\n",
              "    <tr>\n",
              "      <th>2</th>\n",
              "      <td>2011-10-08 11:53:44.0000002</td>\n",
              "      <td>2011-10-08 11:53:44 UTC</td>\n",
              "      <td>-73.982524</td>\n",
              "      <td>40.751260</td>\n",
              "      <td>-73.979654</td>\n",
              "      <td>40.746139</td>\n",
              "      <td>1</td>\n",
              "    </tr>\n",
              "    <tr>\n",
              "      <th>3</th>\n",
              "      <td>2012-12-01 21:12:12.0000002</td>\n",
              "      <td>2012-12-01 21:12:12 UTC</td>\n",
              "      <td>-73.981160</td>\n",
              "      <td>40.767807</td>\n",
              "      <td>-73.990448</td>\n",
              "      <td>40.751635</td>\n",
              "      <td>1</td>\n",
              "    </tr>\n",
              "    <tr>\n",
              "      <th>4</th>\n",
              "      <td>2012-12-01 21:12:12.0000003</td>\n",
              "      <td>2012-12-01 21:12:12 UTC</td>\n",
              "      <td>-73.966046</td>\n",
              "      <td>40.789775</td>\n",
              "      <td>-73.988565</td>\n",
              "      <td>40.744427</td>\n",
              "      <td>1</td>\n",
              "    </tr>\n",
              "  </tbody>\n",
              "</table>\n",
              "</div>"
            ],
            "text/plain": [
              "                           key  ... passenger_count\n",
              "0  2015-01-27 13:08:24.0000002  ...               1\n",
              "1  2015-01-27 13:08:24.0000003  ...               1\n",
              "2  2011-10-08 11:53:44.0000002  ...               1\n",
              "3  2012-12-01 21:12:12.0000002  ...               1\n",
              "4  2012-12-01 21:12:12.0000003  ...               1\n",
              "\n",
              "[5 rows x 7 columns]"
            ]
          },
          "metadata": {
            "tags": []
          },
          "execution_count": 20
        }
      ]
    },
    {
      "cell_type": "code",
      "metadata": {
        "colab": {
          "base_uri": "https://localhost:8080/"
        },
        "id": "QyytbiMVxCpX",
        "outputId": "f3f8010b-f8e0-419d-f0c7-c0e3bf4a1e14"
      },
      "source": [
        "test.isnull().sum()"
      ],
      "execution_count": 21,
      "outputs": [
        {
          "output_type": "execute_result",
          "data": {
            "text/plain": [
              "key                  0\n",
              "pickup_datetime      0\n",
              "pickup_longitude     0\n",
              "pickup_latitude      0\n",
              "dropoff_longitude    0\n",
              "dropoff_latitude     0\n",
              "passenger_count      0\n",
              "dtype: int64"
            ]
          },
          "metadata": {
            "tags": []
          },
          "execution_count": 21
        }
      ]
    },
    {
      "cell_type": "code",
      "metadata": {
        "colab": {
          "base_uri": "https://localhost:8080/",
          "height": 287
        },
        "id": "CQxhAy2hxD77",
        "outputId": "a1821fac-eebd-46a7-a8fc-c3958e3cae65"
      },
      "source": [
        "test.describe()"
      ],
      "execution_count": 22,
      "outputs": [
        {
          "output_type": "execute_result",
          "data": {
            "text/html": [
              "<div>\n",
              "<style scoped>\n",
              "    .dataframe tbody tr th:only-of-type {\n",
              "        vertical-align: middle;\n",
              "    }\n",
              "\n",
              "    .dataframe tbody tr th {\n",
              "        vertical-align: top;\n",
              "    }\n",
              "\n",
              "    .dataframe thead th {\n",
              "        text-align: right;\n",
              "    }\n",
              "</style>\n",
              "<table border=\"1\" class=\"dataframe\">\n",
              "  <thead>\n",
              "    <tr style=\"text-align: right;\">\n",
              "      <th></th>\n",
              "      <th>pickup_longitude</th>\n",
              "      <th>pickup_latitude</th>\n",
              "      <th>dropoff_longitude</th>\n",
              "      <th>dropoff_latitude</th>\n",
              "      <th>passenger_count</th>\n",
              "    </tr>\n",
              "  </thead>\n",
              "  <tbody>\n",
              "    <tr>\n",
              "      <th>count</th>\n",
              "      <td>9914.000000</td>\n",
              "      <td>9914.000000</td>\n",
              "      <td>9914.000000</td>\n",
              "      <td>9914.000000</td>\n",
              "      <td>9914.000000</td>\n",
              "    </tr>\n",
              "    <tr>\n",
              "      <th>mean</th>\n",
              "      <td>-73.974722</td>\n",
              "      <td>40.751041</td>\n",
              "      <td>-73.973657</td>\n",
              "      <td>40.751743</td>\n",
              "      <td>1.671273</td>\n",
              "    </tr>\n",
              "    <tr>\n",
              "      <th>std</th>\n",
              "      <td>0.042774</td>\n",
              "      <td>0.033541</td>\n",
              "      <td>0.039072</td>\n",
              "      <td>0.035435</td>\n",
              "      <td>1.278747</td>\n",
              "    </tr>\n",
              "    <tr>\n",
              "      <th>min</th>\n",
              "      <td>-74.252193</td>\n",
              "      <td>40.573143</td>\n",
              "      <td>-74.263242</td>\n",
              "      <td>40.568973</td>\n",
              "      <td>1.000000</td>\n",
              "    </tr>\n",
              "    <tr>\n",
              "      <th>25%</th>\n",
              "      <td>-73.992501</td>\n",
              "      <td>40.736125</td>\n",
              "      <td>-73.991247</td>\n",
              "      <td>40.735254</td>\n",
              "      <td>1.000000</td>\n",
              "    </tr>\n",
              "    <tr>\n",
              "      <th>50%</th>\n",
              "      <td>-73.982326</td>\n",
              "      <td>40.753051</td>\n",
              "      <td>-73.980015</td>\n",
              "      <td>40.754065</td>\n",
              "      <td>1.000000</td>\n",
              "    </tr>\n",
              "    <tr>\n",
              "      <th>75%</th>\n",
              "      <td>-73.968013</td>\n",
              "      <td>40.767113</td>\n",
              "      <td>-73.964059</td>\n",
              "      <td>40.768757</td>\n",
              "      <td>2.000000</td>\n",
              "    </tr>\n",
              "    <tr>\n",
              "      <th>max</th>\n",
              "      <td>-72.986532</td>\n",
              "      <td>41.709555</td>\n",
              "      <td>-72.990963</td>\n",
              "      <td>41.696683</td>\n",
              "      <td>6.000000</td>\n",
              "    </tr>\n",
              "  </tbody>\n",
              "</table>\n",
              "</div>"
            ],
            "text/plain": [
              "       pickup_longitude  pickup_latitude  ...  dropoff_latitude  passenger_count\n",
              "count       9914.000000      9914.000000  ...       9914.000000      9914.000000\n",
              "mean         -73.974722        40.751041  ...         40.751743         1.671273\n",
              "std            0.042774         0.033541  ...          0.035435         1.278747\n",
              "min          -74.252193        40.573143  ...         40.568973         1.000000\n",
              "25%          -73.992501        40.736125  ...         40.735254         1.000000\n",
              "50%          -73.982326        40.753051  ...         40.754065         1.000000\n",
              "75%          -73.968013        40.767113  ...         40.768757         2.000000\n",
              "max          -72.986532        41.709555  ...         41.696683         6.000000\n",
              "\n",
              "[8 rows x 5 columns]"
            ]
          },
          "metadata": {
            "tags": []
          },
          "execution_count": 22
        }
      ]
    },
    {
      "cell_type": "code",
      "metadata": {
        "colab": {
          "base_uri": "https://localhost:8080/"
        },
        "id": "vq2u1R0_xF77",
        "outputId": "f2f0a7f8-1944-45e3-c89d-f3c76b19434a"
      },
      "source": [
        "min(test.pickup_longitude.min(),test.dropoff_longitude.min()), \\\n",
        "max(test.pickup_longitude.max(),test.dropoff_longitude.max())"
      ],
      "execution_count": 23,
      "outputs": [
        {
          "output_type": "execute_result",
          "data": {
            "text/plain": [
              "(-74.263242, -72.986532)"
            ]
          },
          "metadata": {
            "tags": []
          },
          "execution_count": 23
        }
      ]
    },
    {
      "cell_type": "code",
      "metadata": {
        "colab": {
          "base_uri": "https://localhost:8080/"
        },
        "id": "on2oZ9dFxHPj",
        "outputId": "baa4f442-6bfa-4246-e5c4-dc19b7640b73"
      },
      "source": [
        "min(test.pickup_latitude.min(),test.dropoff_latitude.min()), \\\n",
        "max(test.pickup_latitude.max(),test.dropoff_latitude.max())"
      ],
      "execution_count": 24,
      "outputs": [
        {
          "output_type": "execute_result",
          "data": {
            "text/plain": [
              "(40.568973, 41.709555)"
            ]
          },
          "metadata": {
            "tags": []
          },
          "execution_count": 24
        }
      ]
    },
    {
      "cell_type": "code",
      "metadata": {
        "id": "mLwQZrT6xIxy"
      },
      "source": [
        "def select_within_test_boundary(df, BB):\n",
        "    return (df.pickup_longitude >= BB[0]) & (df.pickup_longitude <= BB[1]) & \\\n",
        "           (df.pickup_latitude >= BB[2]) & (df.pickup_latitude <= BB[3]) & \\\n",
        "           (df.dropoff_longitude >= BB[0]) & (df.dropoff_longitude <= BB[1]) & \\\n",
        "           (df.dropoff_latitude >= BB[2]) & (df.dropoff_latitude <= BB[3])"
      ],
      "execution_count": 25,
      "outputs": []
    },
    {
      "cell_type": "code",
      "metadata": {
        "colab": {
          "base_uri": "https://localhost:8080/"
        },
        "id": "QdLZ6DeaxWqk",
        "outputId": "267bfa31-47ed-48b2-a30e-be911b9929f4"
      },
      "source": [
        "BB = (-74.5, -72.8, 40.5, 41.8)\n",
        "print('Old size: %d' % len(train))\n",
        "train = train[select_within_test_boundary(train, BB)]\n",
        "print('New size: %d' % len(train))"
      ],
      "execution_count": 26,
      "outputs": [
        {
          "output_type": "stream",
          "text": [
            "Old size: 4999753\n",
            "New size: 4893706\n"
          ],
          "name": "stdout"
        }
      ]
    },
    {
      "cell_type": "code",
      "metadata": {
        "id": "4mytwuvUxYtL"
      },
      "source": [
        "def prepare_time_features(df):\n",
        "    df['pickup_datetime'] = df['pickup_datetime'].str.slice(0, 16)\n",
        "    df['pickup_datetime'] = pd.to_datetime(df['pickup_datetime'], utc=True, format='%Y-%m-%d %H:%M')\n",
        "    df['hour_of_day'] = df.pickup_datetime.dt.hour\n",
        "    df['month'] = df.pickup_datetime.dt.month\n",
        "    df[\"year\"] = df.pickup_datetime.dt.year\n",
        "    df[\"weekday\"] = df.pickup_datetime.dt.weekday\n",
        "    \n",
        "    return df"
      ],
      "execution_count": 27,
      "outputs": []
    },
    {
      "cell_type": "code",
      "metadata": {
        "id": "Od9W8H1yxaVj"
      },
      "source": [
        "train = prepare_time_features(train)\n",
        "test = prepare_time_features(test)"
      ],
      "execution_count": 28,
      "outputs": []
    },
    {
      "cell_type": "code",
      "metadata": {
        "id": "4G2lgeMXxbrb"
      },
      "source": [
        "def distance(lat1, lon1, lat2, lon2):\n",
        "    p = 0.017453292519943295 \n",
        "    a = 0.5 - np.cos((lat2 - lat1) * p)/2 + np.cos(lat1 * p) * np.cos(lat2 * p) * (1 - np.cos((lon2 - lon1) * p)) / 2\n",
        "    return 0.6213712 * 12742 * np.arcsin(np.sqrt(a))   "
      ],
      "execution_count": 29,
      "outputs": []
    },
    {
      "cell_type": "code",
      "metadata": {
        "id": "7y0_HycXxdVT"
      },
      "source": [
        "train['distance_miles'] = distance(train.pickup_latitude, train.pickup_longitude, \\\n",
        "                                      train.dropoff_latitude, train.dropoff_longitude)"
      ],
      "execution_count": 30,
      "outputs": []
    },
    {
      "cell_type": "code",
      "metadata": {
        "id": "8EPxNxQrxfCj"
      },
      "source": [
        "test['distance_miles'] = distance(test.pickup_latitude, test.pickup_longitude, \\\n",
        "                                      test.dropoff_latitude, test.dropoff_longitude)"
      ],
      "execution_count": 31,
      "outputs": []
    },
    {
      "cell_type": "code",
      "metadata": {
        "id": "voKohcCZxgIb"
      },
      "source": [
        "def transform(data):\n",
        "    jfk = (-73.7781, 40.6413)\n",
        "    ewr = (-74.1745, 40.6895)\n",
        "    lgr = (-73.8740, 40.7769)\n",
        "\n",
        "    data['pickup_distance_to_jfk'] = distance(jfk[1], jfk[0],\n",
        "                                         data['pickup_latitude'], data['pickup_longitude'])\n",
        "    data['dropoff_distance_to_jfk'] = distance(jfk[1], jfk[0],\n",
        "                                           data['dropoff_latitude'], data['dropoff_longitude'])\n",
        "    data['pickup_distance_to_ewr'] = distance(ewr[1], ewr[0], \n",
        "                                          data['pickup_latitude'], data['pickup_longitude'])\n",
        "    data['dropoff_distance_to_ewr'] = distance(ewr[1], ewr[0],\n",
        "                                           data['dropoff_latitude'], data['dropoff_longitude'])\n",
        "    data['pickup_distance_to_lgr'] = distance(lgr[1], lgr[0],\n",
        "                                          data['pickup_latitude'], data['pickup_longitude'])\n",
        "    data['dropoff_distance_to_lgr'] = distance(lgr[1], lgr[0],\n",
        "                                           data['dropoff_latitude'], data['dropoff_longitude'])\n",
        "    \n",
        "    return data\n",
        "\n",
        "train = transform(train)\n",
        "test = transform(test)"
      ],
      "execution_count": 32,
      "outputs": []
    },
    {
      "cell_type": "code",
      "metadata": {
        "colab": {
          "base_uri": "https://localhost:8080/",
          "height": 767
        },
        "id": "fLZ7lS4QxhZL",
        "outputId": "b5c5cc95-5367-4089-bb12-4e27fbd8b1d5"
      },
      "source": [
        "train[(train['distance_miles']==0)&(train['fare_amount']==0)]"
      ],
      "execution_count": 33,
      "outputs": [
        {
          "output_type": "execute_result",
          "data": {
            "text/html": [
              "<div>\n",
              "<style scoped>\n",
              "    .dataframe tbody tr th:only-of-type {\n",
              "        vertical-align: middle;\n",
              "    }\n",
              "\n",
              "    .dataframe tbody tr th {\n",
              "        vertical-align: top;\n",
              "    }\n",
              "\n",
              "    .dataframe thead th {\n",
              "        text-align: right;\n",
              "    }\n",
              "</style>\n",
              "<table border=\"1\" class=\"dataframe\">\n",
              "  <thead>\n",
              "    <tr style=\"text-align: right;\">\n",
              "      <th></th>\n",
              "      <th>key</th>\n",
              "      <th>fare_amount</th>\n",
              "      <th>pickup_datetime</th>\n",
              "      <th>pickup_longitude</th>\n",
              "      <th>pickup_latitude</th>\n",
              "      <th>dropoff_longitude</th>\n",
              "      <th>dropoff_latitude</th>\n",
              "      <th>passenger_count</th>\n",
              "      <th>hour_of_day</th>\n",
              "      <th>month</th>\n",
              "      <th>year</th>\n",
              "      <th>weekday</th>\n",
              "      <th>distance_miles</th>\n",
              "      <th>pickup_distance_to_jfk</th>\n",
              "      <th>dropoff_distance_to_jfk</th>\n",
              "      <th>pickup_distance_to_ewr</th>\n",
              "      <th>dropoff_distance_to_ewr</th>\n",
              "      <th>pickup_distance_to_lgr</th>\n",
              "      <th>dropoff_distance_to_lgr</th>\n",
              "    </tr>\n",
              "  </thead>\n",
              "  <tbody>\n",
              "    <tr>\n",
              "      <th>331597</th>\n",
              "      <td>2013-08-05 06:45:54.0000005</td>\n",
              "      <td>0.0</td>\n",
              "      <td>2013-08-05 06:45:00+00:00</td>\n",
              "      <td>-73.982354</td>\n",
              "      <td>40.679971</td>\n",
              "      <td>-73.982354</td>\n",
              "      <td>40.679971</td>\n",
              "      <td>1</td>\n",
              "      <td>6</td>\n",
              "      <td>8</td>\n",
              "      <td>2013</td>\n",
              "      <td>0</td>\n",
              "      <td>0.0</td>\n",
              "      <td>11.033947</td>\n",
              "      <td>11.033947</td>\n",
              "      <td>10.088806</td>\n",
              "      <td>10.088806</td>\n",
              "      <td>8.777184</td>\n",
              "      <td>8.777184</td>\n",
              "    </tr>\n",
              "    <tr>\n",
              "      <th>436658</th>\n",
              "      <td>2015-03-04 22:33:39.0000008</td>\n",
              "      <td>0.0</td>\n",
              "      <td>2015-03-04 22:33:00+00:00</td>\n",
              "      <td>-74.043442</td>\n",
              "      <td>40.788208</td>\n",
              "      <td>-74.043442</td>\n",
              "      <td>40.788208</td>\n",
              "      <td>1</td>\n",
              "      <td>22</td>\n",
              "      <td>3</td>\n",
              "      <td>2015</td>\n",
              "      <td>2</td>\n",
              "      <td>0.0</td>\n",
              "      <td>17.208424</td>\n",
              "      <td>17.208424</td>\n",
              "      <td>9.674078</td>\n",
              "      <td>9.674078</td>\n",
              "      <td>8.899057</td>\n",
              "      <td>8.899057</td>\n",
              "    </tr>\n",
              "    <tr>\n",
              "      <th>689250</th>\n",
              "      <td>2015-05-27 23:10:03.0000004</td>\n",
              "      <td>0.0</td>\n",
              "      <td>2015-05-27 23:10:00+00:00</td>\n",
              "      <td>-73.994125</td>\n",
              "      <td>40.741131</td>\n",
              "      <td>-73.994125</td>\n",
              "      <td>40.741131</td>\n",
              "      <td>1</td>\n",
              "      <td>23</td>\n",
              "      <td>5</td>\n",
              "      <td>2015</td>\n",
              "      <td>2</td>\n",
              "      <td>0.0</td>\n",
              "      <td>13.253658</td>\n",
              "      <td>13.253658</td>\n",
              "      <td>10.097370</td>\n",
              "      <td>10.097370</td>\n",
              "      <td>6.755154</td>\n",
              "      <td>6.755154</td>\n",
              "    </tr>\n",
              "    <tr>\n",
              "      <th>1662545</th>\n",
              "      <td>2010-03-13 02:39:29.0000001</td>\n",
              "      <td>0.0</td>\n",
              "      <td>2010-03-13 02:39:00+00:00</td>\n",
              "      <td>-74.035278</td>\n",
              "      <td>40.738683</td>\n",
              "      <td>-74.035278</td>\n",
              "      <td>40.738683</td>\n",
              "      <td>2</td>\n",
              "      <td>2</td>\n",
              "      <td>3</td>\n",
              "      <td>2010</td>\n",
              "      <td>5</td>\n",
              "      <td>0.0</td>\n",
              "      <td>15.060166</td>\n",
              "      <td>15.060166</td>\n",
              "      <td>8.044207</td>\n",
              "      <td>8.044207</td>\n",
              "      <td>8.844117</td>\n",
              "      <td>8.844117</td>\n",
              "    </tr>\n",
              "    <tr>\n",
              "      <th>2214498</th>\n",
              "      <td>2010-02-03 11:44:07.0000002</td>\n",
              "      <td>0.0</td>\n",
              "      <td>2010-02-03 11:44:00+00:00</td>\n",
              "      <td>-74.014147</td>\n",
              "      <td>40.710546</td>\n",
              "      <td>-74.014147</td>\n",
              "      <td>40.710546</td>\n",
              "      <td>1</td>\n",
              "      <td>11</td>\n",
              "      <td>2</td>\n",
              "      <td>2010</td>\n",
              "      <td>2</td>\n",
              "      <td>0.0</td>\n",
              "      <td>13.262164</td>\n",
              "      <td>13.262164</td>\n",
              "      <td>8.524551</td>\n",
              "      <td>8.524551</td>\n",
              "      <td>8.651064</td>\n",
              "      <td>8.651064</td>\n",
              "    </tr>\n",
              "    <tr>\n",
              "      <th>2329503</th>\n",
              "      <td>2015-02-19 09:43:11.0000007</td>\n",
              "      <td>0.0</td>\n",
              "      <td>2015-02-19 09:43:00+00:00</td>\n",
              "      <td>-73.953857</td>\n",
              "      <td>40.813251</td>\n",
              "      <td>-73.953857</td>\n",
              "      <td>40.813251</td>\n",
              "      <td>1</td>\n",
              "      <td>9</td>\n",
              "      <td>2</td>\n",
              "      <td>2015</td>\n",
              "      <td>3</td>\n",
              "      <td>0.0</td>\n",
              "      <td>15.028026</td>\n",
              "      <td>15.028026</td>\n",
              "      <td>14.369537</td>\n",
              "      <td>14.369537</td>\n",
              "      <td>4.874081</td>\n",
              "      <td>4.874081</td>\n",
              "    </tr>\n",
              "    <tr>\n",
              "      <th>2581417</th>\n",
              "      <td>2015-05-07 19:12:43.0000005</td>\n",
              "      <td>0.0</td>\n",
              "      <td>2015-05-07 19:12:00+00:00</td>\n",
              "      <td>-73.913727</td>\n",
              "      <td>40.779018</td>\n",
              "      <td>-73.913727</td>\n",
              "      <td>40.779018</td>\n",
              "      <td>1</td>\n",
              "      <td>19</td>\n",
              "      <td>5</td>\n",
              "      <td>2015</td>\n",
              "      <td>3</td>\n",
              "      <td>0.0</td>\n",
              "      <td>11.874358</td>\n",
              "      <td>11.874358</td>\n",
              "      <td>14.988477</td>\n",
              "      <td>14.988477</td>\n",
              "      <td>2.083680</td>\n",
              "      <td>2.083680</td>\n",
              "    </tr>\n",
              "    <tr>\n",
              "      <th>3070651</th>\n",
              "      <td>2015-01-25 20:54:02.0000004</td>\n",
              "      <td>0.0</td>\n",
              "      <td>2015-01-25 20:54:00+00:00</td>\n",
              "      <td>-73.981293</td>\n",
              "      <td>40.769012</td>\n",
              "      <td>-73.981293</td>\n",
              "      <td>40.769012</td>\n",
              "      <td>1</td>\n",
              "      <td>20</td>\n",
              "      <td>1</td>\n",
              "      <td>2015</td>\n",
              "      <td>6</td>\n",
              "      <td>0.0</td>\n",
              "      <td>13.825115</td>\n",
              "      <td>13.825115</td>\n",
              "      <td>11.511639</td>\n",
              "      <td>11.511639</td>\n",
              "      <td>5.640439</td>\n",
              "      <td>5.640439</td>\n",
              "    </tr>\n",
              "    <tr>\n",
              "      <th>3252539</th>\n",
              "      <td>2015-01-14 10:15:51.0000002</td>\n",
              "      <td>0.0</td>\n",
              "      <td>2015-01-14 10:15:00+00:00</td>\n",
              "      <td>-73.937508</td>\n",
              "      <td>40.758129</td>\n",
              "      <td>-73.937508</td>\n",
              "      <td>40.758129</td>\n",
              "      <td>1</td>\n",
              "      <td>10</td>\n",
              "      <td>1</td>\n",
              "      <td>2015</td>\n",
              "      <td>2</td>\n",
              "      <td>0.0</td>\n",
              "      <td>11.613939</td>\n",
              "      <td>11.613939</td>\n",
              "      <td>13.284777</td>\n",
              "      <td>13.284777</td>\n",
              "      <td>3.567391</td>\n",
              "      <td>3.567391</td>\n",
              "    </tr>\n",
              "    <tr>\n",
              "      <th>3712453</th>\n",
              "      <td>2010-03-29 12:47:22.0000005</td>\n",
              "      <td>0.0</td>\n",
              "      <td>2010-03-29 12:47:00+00:00</td>\n",
              "      <td>-73.836776</td>\n",
              "      <td>40.869879</td>\n",
              "      <td>-73.836776</td>\n",
              "      <td>40.869879</td>\n",
              "      <td>1</td>\n",
              "      <td>12</td>\n",
              "      <td>3</td>\n",
              "      <td>2010</td>\n",
              "      <td>0</td>\n",
              "      <td>0.0</td>\n",
              "      <td>16.089089</td>\n",
              "      <td>16.089089</td>\n",
              "      <td>21.622569</td>\n",
              "      <td>21.622569</td>\n",
              "      <td>6.712571</td>\n",
              "      <td>6.712571</td>\n",
              "    </tr>\n",
              "    <tr>\n",
              "      <th>4191567</th>\n",
              "      <td>2010-02-22 01:02:16.0000002</td>\n",
              "      <td>0.0</td>\n",
              "      <td>2010-02-22 01:02:00+00:00</td>\n",
              "      <td>-73.981984</td>\n",
              "      <td>40.757467</td>\n",
              "      <td>-73.981984</td>\n",
              "      <td>40.757467</td>\n",
              "      <td>1</td>\n",
              "      <td>1</td>\n",
              "      <td>2</td>\n",
              "      <td>2010</td>\n",
              "      <td>0</td>\n",
              "      <td>0.0</td>\n",
              "      <td>13.359782</td>\n",
              "      <td>13.359782</td>\n",
              "      <td>11.120967</td>\n",
              "      <td>11.120967</td>\n",
              "      <td>5.808042</td>\n",
              "      <td>5.808042</td>\n",
              "    </tr>\n",
              "    <tr>\n",
              "      <th>4307073</th>\n",
              "      <td>2010-02-13 00:30:23.0000001</td>\n",
              "      <td>0.0</td>\n",
              "      <td>2010-02-13 00:30:00+00:00</td>\n",
              "      <td>-73.968945</td>\n",
              "      <td>40.764540</td>\n",
              "      <td>-73.968945</td>\n",
              "      <td>40.764540</td>\n",
              "      <td>1</td>\n",
              "      <td>0</td>\n",
              "      <td>2</td>\n",
              "      <td>2010</td>\n",
              "      <td>5</td>\n",
              "      <td>0.0</td>\n",
              "      <td>13.131424</td>\n",
              "      <td>13.131424</td>\n",
              "      <td>11.946724</td>\n",
              "      <td>11.946724</td>\n",
              "      <td>5.040991</td>\n",
              "      <td>5.040991</td>\n",
              "    </tr>\n",
              "    <tr>\n",
              "      <th>4377466</th>\n",
              "      <td>2015-01-16 14:56:36.0000004</td>\n",
              "      <td>0.0</td>\n",
              "      <td>2015-01-16 14:56:00+00:00</td>\n",
              "      <td>-73.937531</td>\n",
              "      <td>40.758289</td>\n",
              "      <td>-73.937531</td>\n",
              "      <td>40.758289</td>\n",
              "      <td>1</td>\n",
              "      <td>14</td>\n",
              "      <td>1</td>\n",
              "      <td>2015</td>\n",
              "      <td>4</td>\n",
              "      <td>0.0</td>\n",
              "      <td>11.622489</td>\n",
              "      <td>11.622489</td>\n",
              "      <td>13.287600</td>\n",
              "      <td>13.287600</td>\n",
              "      <td>3.564494</td>\n",
              "      <td>3.564494</td>\n",
              "    </tr>\n",
              "    <tr>\n",
              "      <th>4819787</th>\n",
              "      <td>2015-02-18 06:47:03.0000002</td>\n",
              "      <td>0.0</td>\n",
              "      <td>2015-02-18 06:47:00+00:00</td>\n",
              "      <td>-73.937820</td>\n",
              "      <td>40.758190</td>\n",
              "      <td>-73.937820</td>\n",
              "      <td>40.758190</td>\n",
              "      <td>1</td>\n",
              "      <td>6</td>\n",
              "      <td>2</td>\n",
              "      <td>2015</td>\n",
              "      <td>2</td>\n",
              "      <td>0.0</td>\n",
              "      <td>11.628650</td>\n",
              "      <td>11.628650</td>\n",
              "      <td>13.270980</td>\n",
              "      <td>13.270980</td>\n",
              "      <td>3.581118</td>\n",
              "      <td>3.581118</td>\n",
              "    </tr>\n",
              "    <tr>\n",
              "      <th>4851000</th>\n",
              "      <td>2010-02-10 20:18:01.0000002</td>\n",
              "      <td>0.0</td>\n",
              "      <td>2010-02-10 20:18:00+00:00</td>\n",
              "      <td>-74.003095</td>\n",
              "      <td>40.743403</td>\n",
              "      <td>-74.003095</td>\n",
              "      <td>40.743403</td>\n",
              "      <td>1</td>\n",
              "      <td>20</td>\n",
              "      <td>2</td>\n",
              "      <td>2010</td>\n",
              "      <td>2</td>\n",
              "      <td>0.0</td>\n",
              "      <td>13.736890</td>\n",
              "      <td>13.736890</td>\n",
              "      <td>9.718282</td>\n",
              "      <td>9.718282</td>\n",
              "      <td>7.141572</td>\n",
              "      <td>7.141572</td>\n",
              "    </tr>\n",
              "  </tbody>\n",
              "</table>\n",
              "</div>"
            ],
            "text/plain": [
              "                                 key  ...  dropoff_distance_to_lgr\n",
              "331597   2013-08-05 06:45:54.0000005  ...                 8.777184\n",
              "436658   2015-03-04 22:33:39.0000008  ...                 8.899057\n",
              "689250   2015-05-27 23:10:03.0000004  ...                 6.755154\n",
              "1662545  2010-03-13 02:39:29.0000001  ...                 8.844117\n",
              "2214498  2010-02-03 11:44:07.0000002  ...                 8.651064\n",
              "2329503  2015-02-19 09:43:11.0000007  ...                 4.874081\n",
              "2581417  2015-05-07 19:12:43.0000005  ...                 2.083680\n",
              "3070651  2015-01-25 20:54:02.0000004  ...                 5.640439\n",
              "3252539  2015-01-14 10:15:51.0000002  ...                 3.567391\n",
              "3712453  2010-03-29 12:47:22.0000005  ...                 6.712571\n",
              "4191567  2010-02-22 01:02:16.0000002  ...                 5.808042\n",
              "4307073  2010-02-13 00:30:23.0000001  ...                 5.040991\n",
              "4377466  2015-01-16 14:56:36.0000004  ...                 3.564494\n",
              "4819787  2015-02-18 06:47:03.0000002  ...                 3.581118\n",
              "4851000  2010-02-10 20:18:01.0000002  ...                 7.141572\n",
              "\n",
              "[15 rows x 19 columns]"
            ]
          },
          "metadata": {
            "tags": []
          },
          "execution_count": 33
        }
      ]
    },
    {
      "cell_type": "code",
      "metadata": {
        "colab": {
          "base_uri": "https://localhost:8080/"
        },
        "id": "pYNGz3vQxi76",
        "outputId": "8f8542e5-807c-46c7-80fd-393991360065"
      },
      "source": [
        "print(\"old size: %d\" % len(train))\n",
        "train = train.drop(index= train[(train['distance_miles']==0)&(train['fare_amount']==0)].index, axis=0)\n",
        "print(\"New size: %d\" % len(train))"
      ],
      "execution_count": 34,
      "outputs": [
        {
          "output_type": "stream",
          "text": [
            "old size: 4893706\n",
            "New size: 4893691\n"
          ],
          "name": "stdout"
        }
      ]
    },
    {
      "cell_type": "code",
      "metadata": {
        "colab": {
          "base_uri": "https://localhost:8080/"
        },
        "id": "pYgce1eVxn-a",
        "outputId": "13ea8a20-84e3-4777-99a1-1047a87a0576"
      },
      "source": [
        "print(\"old size: %d\" % len(train))\n",
        "train = train.drop(index= train[train['fare_amount']==0].index, axis=0)\n",
        "print(\"New size: %d\" % len(train))"
      ],
      "execution_count": 35,
      "outputs": [
        {
          "output_type": "stream",
          "text": [
            "old size: 4893691\n",
            "New size: 4893599\n"
          ],
          "name": "stdout"
        }
      ]
    },
    {
      "cell_type": "code",
      "metadata": {
        "colab": {
          "base_uri": "https://localhost:8080/"
        },
        "id": "BmPi_RccxpQy",
        "outputId": "e2080020-d981-4a31-a496-1ea11466b839"
      },
      "source": [
        "print(\"old size: %d\" % len(train))\n",
        "train = train.drop(index= train[train['fare_amount'] < 2.5].index, axis=0)\n",
        "print(\"New size: %d\" % len(train))"
      ],
      "execution_count": 36,
      "outputs": [
        {
          "output_type": "stream",
          "text": [
            "old size: 4893599\n",
            "New size: 4893546\n"
          ],
          "name": "stdout"
        }
      ]
    },
    {
      "cell_type": "code",
      "metadata": {
        "colab": {
          "base_uri": "https://localhost:8080/",
          "height": 347
        },
        "id": "v_yGmzsSxrJy",
        "outputId": "e9abffe0-0d92-429d-acf6-fc9ac3efb11e"
      },
      "source": [
        "train[train.passenger_count >= 7]"
      ],
      "execution_count": 37,
      "outputs": [
        {
          "output_type": "execute_result",
          "data": {
            "text/html": [
              "<div>\n",
              "<style scoped>\n",
              "    .dataframe tbody tr th:only-of-type {\n",
              "        vertical-align: middle;\n",
              "    }\n",
              "\n",
              "    .dataframe tbody tr th {\n",
              "        vertical-align: top;\n",
              "    }\n",
              "\n",
              "    .dataframe thead th {\n",
              "        text-align: right;\n",
              "    }\n",
              "</style>\n",
              "<table border=\"1\" class=\"dataframe\">\n",
              "  <thead>\n",
              "    <tr style=\"text-align: right;\">\n",
              "      <th></th>\n",
              "      <th>key</th>\n",
              "      <th>fare_amount</th>\n",
              "      <th>pickup_datetime</th>\n",
              "      <th>pickup_longitude</th>\n",
              "      <th>pickup_latitude</th>\n",
              "      <th>dropoff_longitude</th>\n",
              "      <th>dropoff_latitude</th>\n",
              "      <th>passenger_count</th>\n",
              "      <th>hour_of_day</th>\n",
              "      <th>month</th>\n",
              "      <th>year</th>\n",
              "      <th>weekday</th>\n",
              "      <th>distance_miles</th>\n",
              "      <th>pickup_distance_to_jfk</th>\n",
              "      <th>dropoff_distance_to_jfk</th>\n",
              "      <th>pickup_distance_to_ewr</th>\n",
              "      <th>dropoff_distance_to_ewr</th>\n",
              "      <th>pickup_distance_to_lgr</th>\n",
              "      <th>dropoff_distance_to_lgr</th>\n",
              "    </tr>\n",
              "  </thead>\n",
              "  <tbody>\n",
              "    <tr>\n",
              "      <th>1007609</th>\n",
              "      <td>2014-06-24 15:13:00.00000040</td>\n",
              "      <td>104.00</td>\n",
              "      <td>2014-06-24 15:13:00+00:00</td>\n",
              "      <td>-74.015780</td>\n",
              "      <td>40.715420</td>\n",
              "      <td>-74.170280</td>\n",
              "      <td>40.708340</td>\n",
              "      <td>9</td>\n",
              "      <td>15</td>\n",
              "      <td>6</td>\n",
              "      <td>2014</td>\n",
              "      <td>1</td>\n",
              "      <td>8.106351</td>\n",
              "      <td>13.466019</td>\n",
              "      <td>21.066468</td>\n",
              "      <td>8.504471</td>\n",
              "      <td>1.320355</td>\n",
              "      <td>8.551259</td>\n",
              "      <td>16.217073</td>\n",
              "    </tr>\n",
              "    <tr>\n",
              "      <th>3107489</th>\n",
              "      <td>2009-05-12 14:50:00.000000175</td>\n",
              "      <td>2.70</td>\n",
              "      <td>2009-05-12 14:50:00+00:00</td>\n",
              "      <td>-73.937818</td>\n",
              "      <td>40.758260</td>\n",
              "      <td>-73.937827</td>\n",
              "      <td>40.758250</td>\n",
              "      <td>208</td>\n",
              "      <td>14</td>\n",
              "      <td>5</td>\n",
              "      <td>2009</td>\n",
              "      <td>1</td>\n",
              "      <td>0.000836</td>\n",
              "      <td>11.631908</td>\n",
              "      <td>11.631767</td>\n",
              "      <td>13.272820</td>\n",
              "      <td>13.272133</td>\n",
              "      <td>3.579259</td>\n",
              "      <td>3.579947</td>\n",
              "    </tr>\n",
              "    <tr>\n",
              "      <th>3323791</th>\n",
              "      <td>2011-08-27 01:24:00.000000168</td>\n",
              "      <td>8.50</td>\n",
              "      <td>2011-08-27 01:24:00+00:00</td>\n",
              "      <td>-73.987858</td>\n",
              "      <td>40.760340</td>\n",
              "      <td>-74.000682</td>\n",
              "      <td>40.752413</td>\n",
              "      <td>129</td>\n",
              "      <td>1</td>\n",
              "      <td>8</td>\n",
              "      <td>2011</td>\n",
              "      <td>5</td>\n",
              "      <td>0.866290</td>\n",
              "      <td>13.724851</td>\n",
              "      <td>13.960325</td>\n",
              "      <td>10.930179</td>\n",
              "      <td>10.086771</td>\n",
              "      <td>6.066835</td>\n",
              "      <td>6.841901</td>\n",
              "    </tr>\n",
              "    <tr>\n",
              "      <th>4095440</th>\n",
              "      <td>2015-06-14 08:56:16.0000001</td>\n",
              "      <td>37.04</td>\n",
              "      <td>2015-06-14 08:56:00+00:00</td>\n",
              "      <td>-73.982094</td>\n",
              "      <td>40.756252</td>\n",
              "      <td>-73.872482</td>\n",
              "      <td>40.774506</td>\n",
              "      <td>9</td>\n",
              "      <td>8</td>\n",
              "      <td>6</td>\n",
              "      <td>2015</td>\n",
              "      <td>6</td>\n",
              "      <td>5.873045</td>\n",
              "      <td>13.314223</td>\n",
              "      <td>10.447165</td>\n",
              "      <td>11.080643</td>\n",
              "      <td>16.868219</td>\n",
              "      <td>5.833638</td>\n",
              "      <td>0.183507</td>\n",
              "    </tr>\n",
              "    <tr>\n",
              "      <th>4432483</th>\n",
              "      <td>2009-05-11 13:56:00.00000088</td>\n",
              "      <td>11.10</td>\n",
              "      <td>2009-05-11 13:56:00+00:00</td>\n",
              "      <td>-73.937733</td>\n",
              "      <td>40.758267</td>\n",
              "      <td>-73.937737</td>\n",
              "      <td>40.758273</td>\n",
              "      <td>208</td>\n",
              "      <td>13</td>\n",
              "      <td>5</td>\n",
              "      <td>2009</td>\n",
              "      <td>0</td>\n",
              "      <td>0.000463</td>\n",
              "      <td>11.629041</td>\n",
              "      <td>11.629480</td>\n",
              "      <td>13.277148</td>\n",
              "      <td>13.277101</td>\n",
              "      <td>3.574935</td>\n",
              "      <td>3.574980</td>\n",
              "    </tr>\n",
              "    <tr>\n",
              "      <th>4467314</th>\n",
              "      <td>2015-01-01 21:32:16.0000007</td>\n",
              "      <td>8.50</td>\n",
              "      <td>2015-01-01 21:32:00+00:00</td>\n",
              "      <td>-74.005867</td>\n",
              "      <td>40.740643</td>\n",
              "      <td>-73.988045</td>\n",
              "      <td>40.735100</td>\n",
              "      <td>7</td>\n",
              "      <td>21</td>\n",
              "      <td>1</td>\n",
              "      <td>2015</td>\n",
              "      <td>3</td>\n",
              "      <td>1.008573</td>\n",
              "      <td>13.765823</td>\n",
              "      <td>12.766618</td>\n",
              "      <td>9.512039</td>\n",
              "      <td>10.260783</td>\n",
              "      <td>7.341972</td>\n",
              "      <td>6.630882</td>\n",
              "    </tr>\n",
              "  </tbody>\n",
              "</table>\n",
              "</div>"
            ],
            "text/plain": [
              "                                   key  ...  dropoff_distance_to_lgr\n",
              "1007609   2014-06-24 15:13:00.00000040  ...                16.217073\n",
              "3107489  2009-05-12 14:50:00.000000175  ...                 3.579947\n",
              "3323791  2011-08-27 01:24:00.000000168  ...                 6.841901\n",
              "4095440    2015-06-14 08:56:16.0000001  ...                 0.183507\n",
              "4432483   2009-05-11 13:56:00.00000088  ...                 3.574980\n",
              "4467314    2015-01-01 21:32:16.0000007  ...                 6.630882\n",
              "\n",
              "[6 rows x 19 columns]"
            ]
          },
          "metadata": {
            "tags": []
          },
          "execution_count": 37
        }
      ]
    },
    {
      "cell_type": "code",
      "metadata": {
        "colab": {
          "base_uri": "https://localhost:8080/"
        },
        "id": "EpNvYWKAxtGa",
        "outputId": "5c301b75-76bf-44f3-937e-67835c80d6e0"
      },
      "source": [
        "print(\"old size: %d\" % len(train))\n",
        "train = train.drop(index= train[train.passenger_count >= 7].index, axis=0)\n",
        "print(\"New size: %d\" % len(train))"
      ],
      "execution_count": 38,
      "outputs": [
        {
          "output_type": "stream",
          "text": [
            "old size: 4893546\n",
            "New size: 4893540\n"
          ],
          "name": "stdout"
        }
      ]
    },
    {
      "cell_type": "code",
      "metadata": {
        "colab": {
          "base_uri": "https://localhost:8080/",
          "height": 557
        },
        "id": "6hEP1OPFxumS",
        "outputId": "4fb8bc4a-5837-47cc-c36a-67ba69083740"
      },
      "source": [
        "train.describe().T"
      ],
      "execution_count": 39,
      "outputs": [
        {
          "output_type": "execute_result",
          "data": {
            "text/html": [
              "<div>\n",
              "<style scoped>\n",
              "    .dataframe tbody tr th:only-of-type {\n",
              "        vertical-align: middle;\n",
              "    }\n",
              "\n",
              "    .dataframe tbody tr th {\n",
              "        vertical-align: top;\n",
              "    }\n",
              "\n",
              "    .dataframe thead th {\n",
              "        text-align: right;\n",
              "    }\n",
              "</style>\n",
              "<table border=\"1\" class=\"dataframe\">\n",
              "  <thead>\n",
              "    <tr style=\"text-align: right;\">\n",
              "      <th></th>\n",
              "      <th>count</th>\n",
              "      <th>mean</th>\n",
              "      <th>std</th>\n",
              "      <th>min</th>\n",
              "      <th>25%</th>\n",
              "      <th>50%</th>\n",
              "      <th>75%</th>\n",
              "      <th>max</th>\n",
              "    </tr>\n",
              "  </thead>\n",
              "  <tbody>\n",
              "    <tr>\n",
              "      <th>fare_amount</th>\n",
              "      <td>4893540.0</td>\n",
              "      <td>11.320877</td>\n",
              "      <td>9.689499</td>\n",
              "      <td>2.500000</td>\n",
              "      <td>6.000000</td>\n",
              "      <td>8.500000</td>\n",
              "      <td>12.500000</td>\n",
              "      <td>952.000000</td>\n",
              "    </tr>\n",
              "    <tr>\n",
              "      <th>pickup_longitude</th>\n",
              "      <td>4893540.0</td>\n",
              "      <td>-73.975143</td>\n",
              "      <td>0.038514</td>\n",
              "      <td>-74.496498</td>\n",
              "      <td>-73.992271</td>\n",
              "      <td>-73.982100</td>\n",
              "      <td>-73.968332</td>\n",
              "      <td>-72.812577</td>\n",
              "    </tr>\n",
              "    <tr>\n",
              "      <th>pickup_latitude</th>\n",
              "      <td>4893540.0</td>\n",
              "      <td>40.751088</td>\n",
              "      <td>0.029570</td>\n",
              "      <td>40.500046</td>\n",
              "      <td>40.736560</td>\n",
              "      <td>40.753359</td>\n",
              "      <td>40.767545</td>\n",
              "      <td>41.696852</td>\n",
              "    </tr>\n",
              "    <tr>\n",
              "      <th>dropoff_longitude</th>\n",
              "      <td>4893540.0</td>\n",
              "      <td>-73.974293</td>\n",
              "      <td>0.037656</td>\n",
              "      <td>-74.499912</td>\n",
              "      <td>-73.991580</td>\n",
              "      <td>-73.980610</td>\n",
              "      <td>-73.965358</td>\n",
              "      <td>-72.817832</td>\n",
              "    </tr>\n",
              "    <tr>\n",
              "      <th>dropoff_latitude</th>\n",
              "      <td>4893540.0</td>\n",
              "      <td>40.751459</td>\n",
              "      <td>0.032764</td>\n",
              "      <td>40.500046</td>\n",
              "      <td>40.735607</td>\n",
              "      <td>40.753865</td>\n",
              "      <td>40.768407</td>\n",
              "      <td>41.714633</td>\n",
              "    </tr>\n",
              "    <tr>\n",
              "      <th>passenger_count</th>\n",
              "      <td>4893540.0</td>\n",
              "      <td>1.684464</td>\n",
              "      <td>1.307637</td>\n",
              "      <td>0.000000</td>\n",
              "      <td>1.000000</td>\n",
              "      <td>1.000000</td>\n",
              "      <td>2.000000</td>\n",
              "      <td>6.000000</td>\n",
              "    </tr>\n",
              "    <tr>\n",
              "      <th>hour_of_day</th>\n",
              "      <td>4893540.0</td>\n",
              "      <td>13.511187</td>\n",
              "      <td>6.514973</td>\n",
              "      <td>0.000000</td>\n",
              "      <td>9.000000</td>\n",
              "      <td>14.000000</td>\n",
              "      <td>19.000000</td>\n",
              "      <td>23.000000</td>\n",
              "    </tr>\n",
              "    <tr>\n",
              "      <th>month</th>\n",
              "      <td>4893540.0</td>\n",
              "      <td>6.268756</td>\n",
              "      <td>3.436530</td>\n",
              "      <td>1.000000</td>\n",
              "      <td>3.000000</td>\n",
              "      <td>6.000000</td>\n",
              "      <td>9.000000</td>\n",
              "      <td>12.000000</td>\n",
              "    </tr>\n",
              "    <tr>\n",
              "      <th>year</th>\n",
              "      <td>4893540.0</td>\n",
              "      <td>2011.736220</td>\n",
              "      <td>1.863021</td>\n",
              "      <td>2009.000000</td>\n",
              "      <td>2010.000000</td>\n",
              "      <td>2012.000000</td>\n",
              "      <td>2013.000000</td>\n",
              "      <td>2015.000000</td>\n",
              "    </tr>\n",
              "    <tr>\n",
              "      <th>weekday</th>\n",
              "      <td>4893540.0</td>\n",
              "      <td>3.041579</td>\n",
              "      <td>1.949395</td>\n",
              "      <td>0.000000</td>\n",
              "      <td>1.000000</td>\n",
              "      <td>3.000000</td>\n",
              "      <td>5.000000</td>\n",
              "      <td>6.000000</td>\n",
              "    </tr>\n",
              "    <tr>\n",
              "      <th>distance_miles</th>\n",
              "      <td>4893540.0</td>\n",
              "      <td>2.067447</td>\n",
              "      <td>2.344816</td>\n",
              "      <td>0.000000</td>\n",
              "      <td>0.778690</td>\n",
              "      <td>1.337109</td>\n",
              "      <td>2.428936</td>\n",
              "      <td>89.374738</td>\n",
              "    </tr>\n",
              "    <tr>\n",
              "      <th>pickup_distance_to_jfk</th>\n",
              "      <td>4893540.0</td>\n",
              "      <td>12.967759</td>\n",
              "      <td>2.041426</td>\n",
              "      <td>0.045476</td>\n",
              "      <td>12.780619</td>\n",
              "      <td>13.169613</td>\n",
              "      <td>13.601022</td>\n",
              "      <td>78.944938</td>\n",
              "    </tr>\n",
              "    <tr>\n",
              "      <th>dropoff_distance_to_jfk</th>\n",
              "      <td>4893540.0</td>\n",
              "      <td>12.999370</td>\n",
              "      <td>1.895360</td>\n",
              "      <td>0.091684</td>\n",
              "      <td>12.759863</td>\n",
              "      <td>13.166272</td>\n",
              "      <td>13.616623</td>\n",
              "      <td>79.697023</td>\n",
              "    </tr>\n",
              "    <tr>\n",
              "      <th>pickup_distance_to_ewr</th>\n",
              "      <td>4893540.0</td>\n",
              "      <td>11.403213</td>\n",
              "      <td>2.300823</td>\n",
              "      <td>0.022481</td>\n",
              "      <td>10.171096</td>\n",
              "      <td>11.073839</td>\n",
              "      <td>12.095624</td>\n",
              "      <td>89.535474</td>\n",
              "    </tr>\n",
              "    <tr>\n",
              "      <th>dropoff_distance_to_ewr</th>\n",
              "      <td>4893540.0</td>\n",
              "      <td>11.486044</td>\n",
              "      <td>2.305942</td>\n",
              "      <td>0.083840</td>\n",
              "      <td>10.246303</td>\n",
              "      <td>11.168257</td>\n",
              "      <td>12.303802</td>\n",
              "      <td>86.976579</td>\n",
              "    </tr>\n",
              "    <tr>\n",
              "      <th>pickup_distance_to_lgr</th>\n",
              "      <td>4893540.0</td>\n",
              "      <td>6.009344</td>\n",
              "      <td>1.821514</td>\n",
              "      <td>0.027969</td>\n",
              "      <td>5.210493</td>\n",
              "      <td>5.976966</td>\n",
              "      <td>6.846611</td>\n",
              "      <td>74.412611</td>\n",
              "    </tr>\n",
              "    <tr>\n",
              "      <th>dropoff_distance_to_lgr</th>\n",
              "      <td>4893540.0</td>\n",
              "      <td>6.017242</td>\n",
              "      <td>1.853629</td>\n",
              "      <td>0.020932</td>\n",
              "      <td>5.171531</td>\n",
              "      <td>5.918113</td>\n",
              "      <td>6.828862</td>\n",
              "      <td>72.244122</td>\n",
              "    </tr>\n",
              "  </tbody>\n",
              "</table>\n",
              "</div>"
            ],
            "text/plain": [
              "                             count         mean  ...          75%          max\n",
              "fare_amount              4893540.0    11.320877  ...    12.500000   952.000000\n",
              "pickup_longitude         4893540.0   -73.975143  ...   -73.968332   -72.812577\n",
              "pickup_latitude          4893540.0    40.751088  ...    40.767545    41.696852\n",
              "dropoff_longitude        4893540.0   -73.974293  ...   -73.965358   -72.817832\n",
              "dropoff_latitude         4893540.0    40.751459  ...    40.768407    41.714633\n",
              "passenger_count          4893540.0     1.684464  ...     2.000000     6.000000\n",
              "hour_of_day              4893540.0    13.511187  ...    19.000000    23.000000\n",
              "month                    4893540.0     6.268756  ...     9.000000    12.000000\n",
              "year                     4893540.0  2011.736220  ...  2013.000000  2015.000000\n",
              "weekday                  4893540.0     3.041579  ...     5.000000     6.000000\n",
              "distance_miles           4893540.0     2.067447  ...     2.428936    89.374738\n",
              "pickup_distance_to_jfk   4893540.0    12.967759  ...    13.601022    78.944938\n",
              "dropoff_distance_to_jfk  4893540.0    12.999370  ...    13.616623    79.697023\n",
              "pickup_distance_to_ewr   4893540.0    11.403213  ...    12.095624    89.535474\n",
              "dropoff_distance_to_ewr  4893540.0    11.486044  ...    12.303802    86.976579\n",
              "pickup_distance_to_lgr   4893540.0     6.009344  ...     6.846611    74.412611\n",
              "dropoff_distance_to_lgr  4893540.0     6.017242  ...     6.828862    72.244122\n",
              "\n",
              "[17 rows x 8 columns]"
            ]
          },
          "metadata": {
            "tags": []
          },
          "execution_count": 39
        }
      ]
    },
    {
      "cell_type": "code",
      "metadata": {
        "colab": {
          "base_uri": "https://localhost:8080/"
        },
        "id": "GQkHm7DuxwLc",
        "outputId": "2738db25-bba8-4598-bd67-e9411e229fdb"
      },
      "source": [
        "pd.cut(train['distance_miles'],np.linspace(0, 70, num = 8)).value_counts()"
      ],
      "execution_count": 40,
      "outputs": [
        {
          "output_type": "execute_result",
          "data": {
            "text/plain": [
              "(0.0, 10.0]     4738255\n",
              "(10.0, 20.0]     101887\n",
              "(20.0, 30.0]        657\n",
              "(60.0, 70.0]        469\n",
              "(50.0, 60.0]        256\n",
              "(30.0, 40.0]        109\n",
              "(40.0, 50.0]         32\n",
              "Name: distance_miles, dtype: int64"
            ]
          },
          "metadata": {
            "tags": []
          },
          "execution_count": 40
        }
      ]
    },
    {
      "cell_type": "code",
      "metadata": {
        "colab": {
          "base_uri": "https://localhost:8080/"
        },
        "id": "BSWB-a6WxyYu",
        "outputId": "e1be029e-2641-49a3-d74d-bac4868f18a3"
      },
      "source": [
        "pd.cut(test['distance_miles'],np.linspace(0, 70, num = 8)).value_counts()"
      ],
      "execution_count": 41,
      "outputs": [
        {
          "output_type": "execute_result",
          "data": {
            "text/plain": [
              "(0.0, 10.0]     9611\n",
              "(10.0, 20.0]     214\n",
              "(60.0, 70.0]       3\n",
              "(20.0, 30.0]       1\n",
              "(50.0, 60.0]       0\n",
              "(40.0, 50.0]       0\n",
              "(30.0, 40.0]       0\n",
              "Name: distance_miles, dtype: int64"
            ]
          },
          "metadata": {
            "tags": []
          },
          "execution_count": 41
        }
      ]
    },
    {
      "cell_type": "code",
      "metadata": {
        "colab": {
          "base_uri": "https://localhost:8080/"
        },
        "id": "VdcJMAa1xzlD",
        "outputId": "ba487e79-e42e-4cd0-af13-95519232a2a9"
      },
      "source": [
        "fare_100 = train[train.fare_amount > 100]\n",
        "fare_100.shape"
      ],
      "execution_count": 42,
      "outputs": [
        {
          "output_type": "execute_result",
          "data": {
            "text/plain": [
              "(1669, 19)"
            ]
          },
          "metadata": {
            "tags": []
          },
          "execution_count": 42
        }
      ]
    },
    {
      "cell_type": "code",
      "metadata": {
        "colab": {
          "base_uri": "https://localhost:8080/"
        },
        "id": "88gOJCfVx4Cz",
        "outputId": "bb0ac7f1-d8a6-4ed2-ceee-efca0ee2aa77"
      },
      "source": [
        "fare_100[fare_100.distance_miles <1].shape"
      ],
      "execution_count": 43,
      "outputs": [
        {
          "output_type": "execute_result",
          "data": {
            "text/plain": [
              "(527, 19)"
            ]
          },
          "metadata": {
            "tags": []
          },
          "execution_count": 43
        }
      ]
    },
    {
      "cell_type": "code",
      "metadata": {
        "colab": {
          "base_uri": "https://localhost:8080/"
        },
        "id": "Qq0p1_ymx5GM",
        "outputId": "daf0ee67-9891-4fc4-f6bf-8f7f7bb9e63c"
      },
      "source": [
        "train.columns"
      ],
      "execution_count": 44,
      "outputs": [
        {
          "output_type": "execute_result",
          "data": {
            "text/plain": [
              "Index(['key', 'fare_amount', 'pickup_datetime', 'pickup_longitude',\n",
              "       'pickup_latitude', 'dropoff_longitude', 'dropoff_latitude',\n",
              "       'passenger_count', 'hour_of_day', 'month', 'year', 'weekday',\n",
              "       'distance_miles', 'pickup_distance_to_jfk', 'dropoff_distance_to_jfk',\n",
              "       'pickup_distance_to_ewr', 'dropoff_distance_to_ewr',\n",
              "       'pickup_distance_to_lgr', 'dropoff_distance_to_lgr'],\n",
              "      dtype='object')"
            ]
          },
          "metadata": {
            "tags": []
          },
          "execution_count": 44
        }
      ]
    },
    {
      "cell_type": "code",
      "metadata": {
        "colab": {
          "base_uri": "https://localhost:8080/"
        },
        "id": "xspEL_RZx6Mb",
        "outputId": "9b4ede22-5e0b-451a-f6f8-5d9b8939636f"
      },
      "source": [
        "df_train = train.drop(columns= ['key','pickup_datetime'], axis= 1).copy()\n",
        "df_test = test.drop(columns= ['key','pickup_datetime'], axis= 1).copy()\n",
        "print(df_train.shape)\n",
        "print(df_test.shape)"
      ],
      "execution_count": 45,
      "outputs": [
        {
          "output_type": "stream",
          "text": [
            "(4893540, 17)\n",
            "(9914, 16)\n"
          ],
          "name": "stdout"
        }
      ]
    },
    {
      "cell_type": "markdown",
      "metadata": {
        "id": "Y-ghE9w_x9_i"
      },
      "source": [
        "#Train Test Split"
      ]
    },
    {
      "cell_type": "code",
      "metadata": {
        "colab": {
          "base_uri": "https://localhost:8080/"
        },
        "id": "CqxWQMxYx7Xs",
        "outputId": "cd72c983-b575-4ef9-8c19-f0ae15bf129f"
      },
      "source": [
        "from sklearn.model_selection import train_test_split \n",
        "X_train, X_test, y_train, y_test = train_test_split(df_train.drop('fare_amount', axis=1),\n",
        "                                                    df_train['fare_amount'], test_size=0.2, random_state = 42)\n",
        "print(X_train.shape)\n",
        "print(X_test.shape)\n",
        "print(y_train.shape)\n",
        "print(y_test.shape)"
      ],
      "execution_count": 46,
      "outputs": [
        {
          "output_type": "stream",
          "text": [
            "(3914832, 16)\n",
            "(978708, 16)\n",
            "(3914832,)\n",
            "(978708,)\n"
          ],
          "name": "stdout"
        }
      ]
    },
    {
      "cell_type": "markdown",
      "metadata": {
        "id": "qcU_gEUnyFVp"
      },
      "source": [
        "#XG Boost Model"
      ]
    },
    {
      "cell_type": "code",
      "metadata": {
        "id": "XvTCfTxxyCNT"
      },
      "source": [
        "import xgboost as xgb"
      ],
      "execution_count": 47,
      "outputs": []
    },
    {
      "cell_type": "code",
      "metadata": {
        "id": "FDqCco8RyH07"
      },
      "source": [
        "params = {\n",
        "   \n",
        "    'max_depth': 7,\n",
        "    'gamma' :0,\n",
        "    'eta':.03, \n",
        "    'subsample': 1,\n",
        "    'colsample_bytree': 0.9, \n",
        "    'objective':'reg:linear',\n",
        "    'eval_metric':'rmse',\n",
        "    'silent': 0,\n",
        "    'n_estimators': 100,\n",
        "}"
      ],
      "execution_count": 48,
      "outputs": []
    },
    {
      "cell_type": "code",
      "metadata": {
        "colab": {
          "base_uri": "https://localhost:8080/"
        },
        "id": "7A9HBti0yI9G",
        "outputId": "d20c0a2e-496f-48d9-ea7c-e0045cab1d86"
      },
      "source": [
        "def XGBmodel(X_train,X_test,y_train,y_test,params):\n",
        "    matrix_train = xgb.DMatrix(X_train,label=y_train)\n",
        "    matrix_test = xgb.DMatrix(X_test,label=y_test)\n",
        "    model=xgb.train(params=params,\n",
        "                    dtrain=matrix_train, \n",
        "                    evals=[(matrix_test,'test')])\n",
        "    return model\n",
        "\n",
        "model = XGBmodel(X_train,X_test,y_train,y_test,params)"
      ],
      "execution_count": 49,
      "outputs": [
        {
          "output_type": "stream",
          "text": [
            "[01:26:10] WARNING: /workspace/src/objective/regression_obj.cu:152: reg:linear is now deprecated in favor of reg:squarederror.\n",
            "[0]\ttest-rmse:14.125\n",
            "[1]\ttest-rmse:13.7389\n",
            "[2]\ttest-rmse:13.3895\n",
            "[3]\ttest-rmse:13.0275\n",
            "[4]\ttest-rmse:12.6785\n",
            "[5]\ttest-rmse:12.3408\n",
            "[6]\ttest-rmse:12.0147\n",
            "[7]\ttest-rmse:11.6985\n",
            "[8]\ttest-rmse:11.3925\n",
            "[9]\ttest-rmse:11.0971\n"
          ],
          "name": "stdout"
        }
      ]
    },
    {
      "cell_type": "code",
      "metadata": {
        "id": "srEMTNHYyKBC"
      },
      "source": [
        "prediction = model.predict(xgb.DMatrix(df_test), ntree_limit = model.best_ntree_limit).tolist()"
      ],
      "execution_count": 50,
      "outputs": []
    },
    {
      "cell_type": "code",
      "metadata": {
        "id": "Ps_hRNV7yMYt"
      },
      "source": [
        "holdout = pd.DataFrame({'key': test['key'], 'fare_amount': prediction})\n",
        "holdout.to_csv('xgb_4m_utc_with_cleaning.csv', index=False)"
      ],
      "execution_count": 51,
      "outputs": []
    },
    {
      "cell_type": "code",
      "metadata": {
        "colab": {
          "base_uri": "https://localhost:8080/",
          "height": 391
        },
        "id": "nNQPeqV0yNmC",
        "outputId": "4b9fef86-3512-4840-e971-1df01471dd5b"
      },
      "source": [
        "import matplotlib.pyplot as plt\n",
        "fscores = pd.DataFrame({'X': list(model.get_fscore().keys()), 'Y': list(model.get_fscore().values())})\n",
        "fscores.sort_values(by='Y').plot.bar(x='X')"
      ],
      "execution_count": 52,
      "outputs": [
        {
          "output_type": "execute_result",
          "data": {
            "text/plain": [
              "<matplotlib.axes._subplots.AxesSubplot at 0x7ffa9d1797d0>"
            ]
          },
          "metadata": {
            "tags": []
          },
          "execution_count": 52
        },
        {
          "output_type": "display_data",
          "data": {
            "image/png": "[encoded data removed]",
            "text/plain": [
              "<Figure size 432x288 with 1 Axes>"
            ]
          },
          "metadata": {
            "tags": []
          }
        }
      ]
    },
    {
      "cell_type": "code",
      "metadata": {
        "id": "GNfGJng4yOv6"
      },
      "source": [
        ""
      ],
      "execution_count": null,
      "outputs": []
    }
  ]
}